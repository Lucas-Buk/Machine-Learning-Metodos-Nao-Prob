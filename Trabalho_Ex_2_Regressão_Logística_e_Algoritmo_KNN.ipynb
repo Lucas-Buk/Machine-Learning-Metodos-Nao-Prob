{
  "nbformat": 4,
  "nbformat_minor": 0,
  "metadata": {
    "colab": {
      "name": "Trabalho - Ex 2 Regressão Logística e Algoritmo KNN.ipynb",
      "provenance": [],
      "collapsed_sections": [],
      "mount_file_id": "12nuuFDAVV3UpjaRnDy8OBgDHJ-2qIwqH",
      "authorship_tag": "ABX9TyPqHWXBFpufjG9yMC25DAKv",
      "include_colab_link": true
    },
    "kernelspec": {
      "name": "python3",
      "display_name": "Python 3"
    }
  },
  "cells": [
    {
      "cell_type": "markdown",
      "metadata": {
        "id": "view-in-github",
        "colab_type": "text"
      },
      "source": [
        "<a href=\"https://colab.research.google.com/github/Lucas-Buk/Machine-Learning-Metodos-Nao-Prob/blob/main/Trabalho_Ex_2_Regress%C3%A3o_Log%C3%ADstica_e_Algoritmo_KNN.ipynb\" target=\"_parent\"><img src=\"https://colab.research.google.com/assets/colab-badge.svg\" alt=\"Open In Colab\"/></a>"
      ]
    },
    {
      "cell_type": "markdown",
      "metadata": {
        "id": "elb70rEvwj7v"
      },
      "source": [
        "# Exercício 2 - Regressão Logística e Algoritmo KNN"
      ]
    },
    {
      "cell_type": "markdown",
      "metadata": {
        "id": "qoLsnwZTwnXp"
      },
      "source": [
        "Considere o dataset clássico sobre o diagnóstico de doenças cardíacas, disponível em:\n",
        "https://www.kaggle.com/cherngs/heart-disease-cleveland-uci. O propósito básico deste\n",
        "dataset é o de fornecer dados para treinar um classificador que preveja a ocorrência de\n",
        "doença cardíaca em uma pessoa em função de 13 atributos (variáveis independentes).\n",
        "Siga a tradição da comunidade mundial de Machine Learning e crie classificadores binários para o dataset usando regressão logística e o algoritmo KNN. Assim como no\n",
        "exercício anterior, documente seu fluxo de trabalho, decisões e conclusões."
      ]
    },
    {
      "cell_type": "code",
      "metadata": {
        "id": "3tf8w8e1JnCY"
      },
      "source": [
        "# Importação das bibliotecas\n",
        "import pandas as pd\n",
        "import numpy as np\n",
        "from matplotlib import pyplot as plt\n",
        "from sklearn.linear_model import LogisticRegression\n",
        "from sklearn.preprocessing import StandardScaler\n",
        "from sklearn.neighbors import KNeighborsClassifier\n",
        "\n",
        "from sklearn.metrics import confusion_matrix, classification_report\n",
        "from sklearn.metrics import mean_squared_error\n",
        "from sklearn.model_selection import train_test_split\n",
        "from sklearn.model_selection import cross_val_score"
      ],
      "execution_count": 1,
      "outputs": []
    },
    {
      "cell_type": "code",
      "metadata": {
        "id": "4EcMona9wmbc",
        "colab": {
          "base_uri": "https://localhost:8080/",
          "height": 221
        },
        "outputId": "c2d4ee2d-c340-4ea2-89c3-196a29bddc85"
      },
      "source": [
        "# Leitura dos dados externos\n",
        "df2 = pd.read_csv(\"/content/drive/My Drive/Colab Notebooks/Pós/ML MNP/Datasets/heart_cleveland_upload.csv\")\n",
        "print(df2.shape)\n",
        "df2.head()"
      ],
      "execution_count": 2,
      "outputs": [
        {
          "output_type": "stream",
          "text": [
            "(297, 14)\n"
          ],
          "name": "stdout"
        },
        {
          "output_type": "execute_result",
          "data": {
            "text/html": [
              "<div>\n",
              "<style scoped>\n",
              "    .dataframe tbody tr th:only-of-type {\n",
              "        vertical-align: middle;\n",
              "    }\n",
              "\n",
              "    .dataframe tbody tr th {\n",
              "        vertical-align: top;\n",
              "    }\n",
              "\n",
              "    .dataframe thead th {\n",
              "        text-align: right;\n",
              "    }\n",
              "</style>\n",
              "<table border=\"1\" class=\"dataframe\">\n",
              "  <thead>\n",
              "    <tr style=\"text-align: right;\">\n",
              "      <th></th>\n",
              "      <th>age</th>\n",
              "      <th>sex</th>\n",
              "      <th>cp</th>\n",
              "      <th>trestbps</th>\n",
              "      <th>chol</th>\n",
              "      <th>fbs</th>\n",
              "      <th>restecg</th>\n",
              "      <th>thalach</th>\n",
              "      <th>exang</th>\n",
              "      <th>oldpeak</th>\n",
              "      <th>slope</th>\n",
              "      <th>ca</th>\n",
              "      <th>thal</th>\n",
              "      <th>condition</th>\n",
              "    </tr>\n",
              "  </thead>\n",
              "  <tbody>\n",
              "    <tr>\n",
              "      <th>0</th>\n",
              "      <td>69</td>\n",
              "      <td>1</td>\n",
              "      <td>0</td>\n",
              "      <td>160</td>\n",
              "      <td>234</td>\n",
              "      <td>1</td>\n",
              "      <td>2</td>\n",
              "      <td>131</td>\n",
              "      <td>0</td>\n",
              "      <td>0.1</td>\n",
              "      <td>1</td>\n",
              "      <td>1</td>\n",
              "      <td>0</td>\n",
              "      <td>0</td>\n",
              "    </tr>\n",
              "    <tr>\n",
              "      <th>1</th>\n",
              "      <td>69</td>\n",
              "      <td>0</td>\n",
              "      <td>0</td>\n",
              "      <td>140</td>\n",
              "      <td>239</td>\n",
              "      <td>0</td>\n",
              "      <td>0</td>\n",
              "      <td>151</td>\n",
              "      <td>0</td>\n",
              "      <td>1.8</td>\n",
              "      <td>0</td>\n",
              "      <td>2</td>\n",
              "      <td>0</td>\n",
              "      <td>0</td>\n",
              "    </tr>\n",
              "    <tr>\n",
              "      <th>2</th>\n",
              "      <td>66</td>\n",
              "      <td>0</td>\n",
              "      <td>0</td>\n",
              "      <td>150</td>\n",
              "      <td>226</td>\n",
              "      <td>0</td>\n",
              "      <td>0</td>\n",
              "      <td>114</td>\n",
              "      <td>0</td>\n",
              "      <td>2.6</td>\n",
              "      <td>2</td>\n",
              "      <td>0</td>\n",
              "      <td>0</td>\n",
              "      <td>0</td>\n",
              "    </tr>\n",
              "    <tr>\n",
              "      <th>3</th>\n",
              "      <td>65</td>\n",
              "      <td>1</td>\n",
              "      <td>0</td>\n",
              "      <td>138</td>\n",
              "      <td>282</td>\n",
              "      <td>1</td>\n",
              "      <td>2</td>\n",
              "      <td>174</td>\n",
              "      <td>0</td>\n",
              "      <td>1.4</td>\n",
              "      <td>1</td>\n",
              "      <td>1</td>\n",
              "      <td>0</td>\n",
              "      <td>1</td>\n",
              "    </tr>\n",
              "    <tr>\n",
              "      <th>4</th>\n",
              "      <td>64</td>\n",
              "      <td>1</td>\n",
              "      <td>0</td>\n",
              "      <td>110</td>\n",
              "      <td>211</td>\n",
              "      <td>0</td>\n",
              "      <td>2</td>\n",
              "      <td>144</td>\n",
              "      <td>1</td>\n",
              "      <td>1.8</td>\n",
              "      <td>1</td>\n",
              "      <td>0</td>\n",
              "      <td>0</td>\n",
              "      <td>0</td>\n",
              "    </tr>\n",
              "  </tbody>\n",
              "</table>\n",
              "</div>"
            ],
            "text/plain": [
              "   age  sex  cp  trestbps  chol  ...  oldpeak  slope  ca  thal  condition\n",
              "0   69    1   0       160   234  ...      0.1      1   1     0          0\n",
              "1   69    0   0       140   239  ...      1.8      0   2     0          0\n",
              "2   66    0   0       150   226  ...      2.6      2   0     0          0\n",
              "3   65    1   0       138   282  ...      1.4      1   1     0          1\n",
              "4   64    1   0       110   211  ...      1.8      1   0     0          0\n",
              "\n",
              "[5 rows x 14 columns]"
            ]
          },
          "metadata": {
            "tags": []
          },
          "execution_count": 2
        }
      ]
    },
    {
      "cell_type": "code",
      "metadata": {
        "id": "xEo8ARmKx1VL",
        "colab": {
          "base_uri": "https://localhost:8080/"
        },
        "outputId": "5f9cc8d2-5afd-4cb0-cdc9-eaf31ee866f9"
      },
      "source": [
        "# Verificação do DataFrame\n",
        "dados_vazios = df2.isnull().sum()\n",
        "dados_vazios"
      ],
      "execution_count": 3,
      "outputs": [
        {
          "output_type": "execute_result",
          "data": {
            "text/plain": [
              "age          0\n",
              "sex          0\n",
              "cp           0\n",
              "trestbps     0\n",
              "chol         0\n",
              "fbs          0\n",
              "restecg      0\n",
              "thalach      0\n",
              "exang        0\n",
              "oldpeak      0\n",
              "slope        0\n",
              "ca           0\n",
              "thal         0\n",
              "condition    0\n",
              "dtype: int64"
            ]
          },
          "metadata": {
            "tags": []
          },
          "execution_count": 3
        }
      ]
    },
    {
      "cell_type": "markdown",
      "metadata": {
        "id": "tLfVRDwLyu2E"
      },
      "source": [
        "Não há dados faltantes do DataFrame, assim o estudo pode ser realizado sem problemas."
      ]
    },
    {
      "cell_type": "code",
      "metadata": {
        "id": "JqZQ1qrcys-f",
        "colab": {
          "base_uri": "https://localhost:8080/"
        },
        "outputId": "944040a5-b06f-473a-9bd9-a200b626d4a9"
      },
      "source": [
        "# Seleção de dados\n",
        "X = df2[['age','sex','cp','trestbps','chol','fbs','restecg','thalach','exang','oldpeak','slope','ca','thal']]   # Variáveis independentes\n",
        "\n",
        "y = df2.condition  # Variável dependente\n",
        "\n",
        "# Checagem das variáveis criadas\n",
        "print(f'Dimensões X: {X.shape}')\n",
        "print(f'Dimensões y: {y.shape}')"
      ],
      "execution_count": 4,
      "outputs": [
        {
          "output_type": "stream",
          "text": [
            "Dimensões X: (297, 13)\n",
            "Dimensões y: (297,)\n"
          ],
          "name": "stdout"
        }
      ]
    },
    {
      "cell_type": "code",
      "metadata": {
        "id": "wbhAh2iO0SsM",
        "colab": {
          "base_uri": "https://localhost:8080/"
        },
        "outputId": "5c8eb6ab-716c-4c34-b063-9217a86689e7"
      },
      "source": [
        "# Treinamento por regressão Logística\n",
        "modeloRL = LogisticRegression(max_iter=1000)\n",
        "modeloRL.fit(X,y)\n",
        "\n",
        "# Exibição dos parâmetros do modelo\n",
        "print(f'Beta0 = {modeloRL.intercept_}')\n",
        "print(f'Beta1 = {modeloRL.coef_}')\n",
        "print(f'Iterações: {modeloRL.n_iter_}')"
      ],
      "execution_count": 5,
      "outputs": [
        {
          "output_type": "stream",
          "text": [
            "Beta0 = [-4.19536356]\n",
            "Beta1 = [[-0.01416251  1.04057186  0.55313154  0.02189226  0.00401221 -0.70385913\n",
            "   0.2464007  -0.02163327  0.77772504  0.28575822  0.45905035  1.14537389\n",
            "   0.72831994]]\n",
            "Iterações: [710]\n"
          ],
          "name": "stdout"
        }
      ]
    },
    {
      "cell_type": "markdown",
      "metadata": {
        "id": "UeFdFzDVdevB"
      },
      "source": [
        "O número de iterações teve que ser alterado para a convergência completa do modelo."
      ]
    },
    {
      "cell_type": "code",
      "metadata": {
        "id": "mdb28-0L8kR4",
        "colab": {
          "base_uri": "https://localhost:8080/"
        },
        "outputId": "50c049b4-d8ee-418a-b694-27f46067f8a1"
      },
      "source": [
        "# Avaliação da qualidade do modelo de regressão logística\n",
        "# Calcula as previsões usando os dados de treino, sendo igual a todos os dados disponíveis\n",
        "y_prevRL = modeloRL.predict(X)\n",
        "\n",
        "# Matriz de confusão\n",
        "print(f'Matriz de confusão:\\n {confusion_matrix(y,y_prevRL)}')\n",
        "\n",
        "# Relatório das métricas de qualidade\n",
        "print(classification_report(y,y_prevRL,digits = 4))"
      ],
      "execution_count": 6,
      "outputs": [
        {
          "output_type": "stream",
          "text": [
            "Matriz de confusão:\n",
            " [[141  19]\n",
            " [ 26 111]]\n",
            "              precision    recall  f1-score   support\n",
            "\n",
            "           0     0.8443    0.8812    0.8624       160\n",
            "           1     0.8538    0.8102    0.8315       137\n",
            "\n",
            "    accuracy                         0.8485       297\n",
            "   macro avg     0.8491    0.8457    0.8469       297\n",
            "weighted avg     0.8487    0.8485    0.8481       297\n",
            "\n"
          ],
          "name": "stdout"
        }
      ]
    },
    {
      "cell_type": "markdown",
      "metadata": {
        "id": "iG_vzAR03Ht0"
      },
      "source": [
        "O modelo de Regressão Logística criado apresentou um bom desempenho na classificação dos dados, com acurácia de aproximadamente 85%. O indíce de revocação apresentou valores mais distantes entres as classes 1 e 0, pois o modelo acertou muito mais os valores da classe 0 e, esses também estão em maior número, 160, contra 137 da classe 1."
      ]
    },
    {
      "cell_type": "code",
      "metadata": {
        "id": "2GRti_QbKlFB",
        "colab": {
          "base_uri": "https://localhost:8080/"
        },
        "outputId": "dd27fef9-7ea3-4a86-eb71-01c0203361bd"
      },
      "source": [
        "# Capacidade de generalização do modelo de Regressão Logística\n",
        "X_treino, X_teste, y_treino, y_teste = train_test_split(X,y,train_size = 0.8)\n",
        "\n",
        "print(f'Dimensões dos dados de treino: {X_treino.shape}')\n",
        "print(f'Dimensões dos dados de teste: {X_teste.shape}')"
      ],
      "execution_count": 7,
      "outputs": [
        {
          "output_type": "stream",
          "text": [
            "Dimensões dos dados de treino: (237, 13)\n",
            "Dimensões dos dados de teste: (60, 13)\n"
          ],
          "name": "stdout"
        }
      ]
    },
    {
      "cell_type": "code",
      "metadata": {
        "id": "sKM_nNC5LMmi",
        "colab": {
          "base_uri": "https://localhost:8080/"
        },
        "outputId": "f7dd4680-1a53-4b0c-aca3-7d5dae742cf6"
      },
      "source": [
        "# Validação cruzada hold-out \n",
        "# Treina o modelo, apenas com os dados de treino\n",
        "modeloRL_ho = LogisticRegression(max_iter=1000)\n",
        "modeloRL_ho.fit(X_treino,y_treino)\n",
        "\n",
        "y_prevRL_ho = modeloRL_ho.predict(X_teste)\n",
        "\n",
        "# Matriz de confusão\n",
        "print(f'Matriz de confusão:\\n {confusion_matrix(y_teste,y_prevRL_ho)}')\n",
        "\n",
        "# Relatório das métricas de qualidade\n",
        "print(classification_report(y_teste,y_prevRL_ho,digits = 4))"
      ],
      "execution_count": 8,
      "outputs": [
        {
          "output_type": "stream",
          "text": [
            "Matriz de confusão:\n",
            " [[30  2]\n",
            " [ 4 24]]\n",
            "              precision    recall  f1-score   support\n",
            "\n",
            "           0     0.8824    0.9375    0.9091        32\n",
            "           1     0.9231    0.8571    0.8889        28\n",
            "\n",
            "    accuracy                         0.9000        60\n",
            "   macro avg     0.9027    0.8973    0.8990        60\n",
            "weighted avg     0.9014    0.9000    0.8997        60\n",
            "\n"
          ],
          "name": "stdout"
        }
      ]
    },
    {
      "cell_type": "markdown",
      "metadata": {
        "id": "NrxGEJtcMs0l"
      },
      "source": [
        "O modelo de regressão logística apresenta uma boa generalização dos dados de teste, pois apresentou uma acurácia de aproximadamente 80% nos diversos testes realizados e no caso mostrado acima esse valor atingiu 87%."
      ]
    },
    {
      "cell_type": "code",
      "metadata": {
        "id": "z1_8OMof0bN3",
        "colab": {
          "base_uri": "https://localhost:8080/"
        },
        "outputId": "46b13fb1-7e19-4670-ed1e-92c8e503e411"
      },
      "source": [
        "# Classificação via algoritmo KNN\n",
        "# Padronização da variável independente\n",
        "esc = StandardScaler()\n",
        "esc.fit(X)   \n",
        "X_Norm = esc.transform(X)\n",
        "\n",
        "# Treinamento do classificador KNN\n",
        "modeloKNN = KNeighborsClassifier(n_neighbors = 3)\n",
        "modeloKNN.fit(X_Norm,y)\n",
        "\n",
        "# Avaliação da qualidade do classificador KNN (dados de treino = dados de teste)\n",
        "y_prevKNN = modeloKNN.predict(X_Norm)\n",
        "\n",
        "# Matriz de confusão\n",
        "print(f'Matriz de confusão:\\n {confusion_matrix(y,y_prevKNN)}')\n",
        "\n",
        "# Relatório das métricas de qualidade\n",
        "print(classification_report(y,y_prevKNN,digits = 4))"
      ],
      "execution_count": 9,
      "outputs": [
        {
          "output_type": "stream",
          "text": [
            "Matriz de confusão:\n",
            " [[145  15]\n",
            " [ 11 126]]\n",
            "              precision    recall  f1-score   support\n",
            "\n",
            "           0     0.9295    0.9062    0.9177       160\n",
            "           1     0.8936    0.9197    0.9065       137\n",
            "\n",
            "    accuracy                         0.9125       297\n",
            "   macro avg     0.9116    0.9130    0.9121       297\n",
            "weighted avg     0.9129    0.9125    0.9125       297\n",
            "\n"
          ],
          "name": "stdout"
        }
      ]
    },
    {
      "cell_type": "markdown",
      "metadata": {
        "id": "We2KMl_o3_wt"
      },
      "source": [
        "A classificação por KNN apresentou melhor desempenho em relação a por Regressão Logística, todos as métricas apresentaram uma melhor performance considereando a classificação com os 3 vizinhos mais próximos, aumentando esse valor a qualidade da classificação diminuiu. \n",
        "\n",
        "Nesse caso as métricas de qualidade apresentaram valores mais similares entre as classes, sendo a precisão a que apresenta a maior diferença, porque classificou mais elementos da classe 0, sem doença, como da classe 1."
      ]
    },
    {
      "cell_type": "code",
      "metadata": {
        "id": "1678JP0Wl7w9",
        "colab": {
          "base_uri": "https://localhost:8080/"
        },
        "outputId": "79a57a15-c35e-41a6-b253-968c30558b57"
      },
      "source": [
        "# Avaliação da capacidade de generalização do classificador KNN\n",
        "# Validação cruzada hold-out\n",
        "X_treino, X_teste, y_treino, y_teste = train_test_split(X_Norm,y,train_size = 0.8)\n",
        "\n",
        "print(\"Dimensões dos dados de treino:\",X_treino.shape)\n",
        "print(\"Dimensões dos dados de teste:\",X_teste.shape)"
      ],
      "execution_count": 10,
      "outputs": [
        {
          "output_type": "stream",
          "text": [
            "Dimensões dos dados de treino: (237, 13)\n",
            "Dimensões dos dados de teste: (60, 13)\n"
          ],
          "name": "stdout"
        }
      ]
    },
    {
      "cell_type": "code",
      "metadata": {
        "id": "2uPDodyamlVG",
        "colab": {
          "base_uri": "https://localhost:8080/"
        },
        "outputId": "62588be1-7b2a-4118-cdec-4ecd12d3a7a8"
      },
      "source": [
        "# Treina o classificador com os dados de treino (80% do total)\n",
        "modeloKNN_VC = KNeighborsClassifier(n_neighbors = 3)\n",
        "modeloKNN_VC.fit(X_treino,y_treino)\n",
        "\n",
        "# Avaliação da qualidade do classificador KNN\n",
        "# Calcula as previsões usando os dados de teste (20% do total)\n",
        "y_prevKNN_VC = modeloKNN_VC.predict(X_teste)\n",
        "\n",
        "# Matriz de confusão\n",
        "print(f'Matriz de confusão:\\n {confusion_matrix(y_teste,y_prevKNN_VC)}')\n",
        "\n",
        "# Relatório das métricas de qualidade\n",
        "print(classification_report(y_teste,y_prevKNN_VC,digits = 4))"
      ],
      "execution_count": 11,
      "outputs": [
        {
          "output_type": "stream",
          "text": [
            "Matriz de confusão:\n",
            " [[27  4]\n",
            " [ 5 24]]\n",
            "              precision    recall  f1-score   support\n",
            "\n",
            "           0     0.8438    0.8710    0.8571        31\n",
            "           1     0.8571    0.8276    0.8421        29\n",
            "\n",
            "    accuracy                         0.8500        60\n",
            "   macro avg     0.8504    0.8493    0.8496        60\n",
            "weighted avg     0.8502    0.8500    0.8499        60\n",
            "\n"
          ],
          "name": "stdout"
        }
      ]
    },
    {
      "cell_type": "markdown",
      "metadata": {
        "id": "bHc0vXTy92tf"
      },
      "source": [
        "O modelo utilizando a validação cruzada hold-out apresentou uma boa capacidade de generalização do classificador KNN, com acurácia girando em torno de 80% nos testes realizados no modelo."
      ]
    },
    {
      "cell_type": "code",
      "metadata": {
        "id": "oq4FJyklm9HV",
        "colab": {
          "base_uri": "https://localhost:8080/"
        },
        "outputId": "bbcea0bc-fc65-45bb-9421-86c361f27b79"
      },
      "source": [
        "# Avaliação da capacidade de generalização do classificador KNN\n",
        "# Validação cruzada k-folds\n",
        "\n",
        "Aval = cross_val_score(modeloKNN,X_Norm,y,cv = 10,scoring = 'accuracy')\n",
        "M = np.mean(Aval)            # Média das avaliações\n",
        "DP = np.std(Aval,ddof = 1)   # Desvio padrão (amostral) das avaliações\n",
        "CV_Aval = 100*DP/M           # Coeficiente de variação (%) das avaliações\n",
        "\n",
        "print(\"Valores de acurácia obtidos:\",Aval)\n",
        "print(f'Média dos valores: {M}')\n",
        "print(f'Coeficiente de variação: {CV_Aval:.4f}%')"
      ],
      "execution_count": 12,
      "outputs": [
        {
          "output_type": "stream",
          "text": [
            "Valores de acurácia obtidos: [0.63333333 0.83333333 0.9        0.93333333 0.76666667 0.86666667\n",
            " 0.93333333 0.82758621 0.68965517 0.82758621]\n",
            "Média dos valores: 0.8211494252873563\n",
            "Coeficiente de variação: 12.1255%\n"
          ],
          "name": "stdout"
        }
      ]
    },
    {
      "cell_type": "markdown",
      "metadata": {
        "id": "Ea3Xm9sk-2ix"
      },
      "source": [
        "Utilizando a validação cruzada k-folds o modelo teve uma acurácia média de 82% e uma variação de 12%, ou seja, baixa pois é < 20%. Com isso o modelo apresentou uma boa capacidade de generalização.\n",
        "\n",
        "É interessante notar que dois valores obtidos para a acurácia foram abaixo de 70%, ainda assim obteve-se outros dois acima de 90% e a média maior que 82%."
      ]
    }
  ]
}