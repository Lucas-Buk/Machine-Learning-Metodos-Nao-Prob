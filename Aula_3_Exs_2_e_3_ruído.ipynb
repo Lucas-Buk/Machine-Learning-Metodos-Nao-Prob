{
  "nbformat": 4,
  "nbformat_minor": 0,
  "metadata": {
    "colab": {
      "name": "Aula 3 - Exs 2 e 3 ruído.ipynb",
      "provenance": [],
      "collapsed_sections": [],
      "mount_file_id": "1znTCuaUWZ2oGQurypztN72jncnvIOgg8",
      "authorship_tag": "ABX9TyNLfm99dvowlaYLg3gmKfur",
      "include_colab_link": true
    },
    "kernelspec": {
      "name": "python3",
      "display_name": "Python 3"
    }
  },
  "cells": [
    {
      "cell_type": "markdown",
      "metadata": {
        "id": "view-in-github",
        "colab_type": "text"
      },
      "source": [
        "<a href=\"https://colab.research.google.com/github/Lucas-Buk/Machine-Learning-Metodos-Nao-Prob/blob/main/Aula_3_Exs_2_e_3_ru%C3%ADdo.ipynb\" target=\"_parent\"><img src=\"https://colab.research.google.com/assets/colab-badge.svg\" alt=\"Open In Colab\"/></a>"
      ]
    },
    {
      "cell_type": "markdown",
      "metadata": {
        "id": "92u_Xv3H4Je8"
      },
      "source": [
        "# Aula 3 \n",
        "#Ex 2"
      ]
    },
    {
      "cell_type": "code",
      "metadata": {
        "id": "-7pCphIA4CH8"
      },
      "source": [
        "import pandas as pd\n",
        "import numpy as np\n",
        "from matplotlib import pyplot as plt\n",
        "from sklearn.linear_model import LogisticRegression"
      ],
      "execution_count": 1,
      "outputs": []
    },
    {
      "cell_type": "code",
      "metadata": {
        "id": "FKYu5emx4iCh",
        "colab": {
          "base_uri": "https://localhost:8080/",
          "height": 204
        },
        "outputId": "c153d16e-7a1d-46bf-bc04-b85b3382d216"
      },
      "source": [
        "df = pd.read_csv('/content/drive/My Drive/Colab Notebooks/Pós/ML MNP/Datasets/A2EX4-ruído.csv')\n",
        "df.head()"
      ],
      "execution_count": 2,
      "outputs": [
        {
          "output_type": "execute_result",
          "data": {
            "text/html": [
              "<div>\n",
              "<style scoped>\n",
              "    .dataframe tbody tr th:only-of-type {\n",
              "        vertical-align: middle;\n",
              "    }\n",
              "\n",
              "    .dataframe tbody tr th {\n",
              "        vertical-align: top;\n",
              "    }\n",
              "\n",
              "    .dataframe thead th {\n",
              "        text-align: right;\n",
              "    }\n",
              "</style>\n",
              "<table border=\"1\" class=\"dataframe\">\n",
              "  <thead>\n",
              "    <tr style=\"text-align: right;\">\n",
              "      <th></th>\n",
              "      <th>Nivel</th>\n",
              "      <th>Aceitavel</th>\n",
              "    </tr>\n",
              "  </thead>\n",
              "  <tbody>\n",
              "    <tr>\n",
              "      <th>0</th>\n",
              "      <td>55.3</td>\n",
              "      <td>1</td>\n",
              "    </tr>\n",
              "    <tr>\n",
              "      <th>1</th>\n",
              "      <td>56.1</td>\n",
              "      <td>1</td>\n",
              "    </tr>\n",
              "    <tr>\n",
              "      <th>2</th>\n",
              "      <td>57.9</td>\n",
              "      <td>1</td>\n",
              "    </tr>\n",
              "    <tr>\n",
              "      <th>3</th>\n",
              "      <td>65.3</td>\n",
              "      <td>1</td>\n",
              "    </tr>\n",
              "    <tr>\n",
              "      <th>4</th>\n",
              "      <td>55.9</td>\n",
              "      <td>1</td>\n",
              "    </tr>\n",
              "  </tbody>\n",
              "</table>\n",
              "</div>"
            ],
            "text/plain": [
              "   Nivel  Aceitavel\n",
              "0   55.3          1\n",
              "1   56.1          1\n",
              "2   57.9          1\n",
              "3   65.3          1\n",
              "4   55.9          1"
            ]
          },
          "metadata": {
            "tags": []
          },
          "execution_count": 2
        }
      ]
    },
    {
      "cell_type": "code",
      "metadata": {
        "id": "DGZ5yWsy43e7",
        "colab": {
          "base_uri": "https://localhost:8080/"
        },
        "outputId": "ed349897-3b48-4c1a-97d8-cdb87162c34b"
      },
      "source": [
        "# Modelo 1\n",
        "X1 = df[['Nivel']]\n",
        "y1 = df['Aceitavel']\n",
        "\n",
        "print(f\"Dimensões de X1: {X1.shape}\")\n",
        "print(f\"Dimensões de y1: {y1.shape}\")"
      ],
      "execution_count": 3,
      "outputs": [
        {
          "output_type": "stream",
          "text": [
            "Dimensões de X1: (77, 1)\n",
            "Dimensões de y1: (77,)\n"
          ],
          "name": "stdout"
        }
      ]
    },
    {
      "cell_type": "code",
      "metadata": {
        "id": "_O2NdIzk8GoZ",
        "colab": {
          "base_uri": "https://localhost:8080/"
        },
        "outputId": "797a3cd6-3c98-48f3-9b01-9983a7bdba87"
      },
      "source": [
        "# Treinamento do Modelo 1\n",
        "modelo1 = LogisticRegression()\n",
        "modelo1.fit(X1,y1)\n",
        "\n",
        "print(f'Coeficientes do modelo: {modelo1.intercept_} {modelo1.coef_}')"
      ],
      "execution_count": 4,
      "outputs": [
        {
          "output_type": "stream",
          "text": [
            "Coeficientes do modelo: [22.87530798] [[-0.35404057]]\n"
          ],
          "name": "stdout"
        }
      ]
    },
    {
      "cell_type": "code",
      "metadata": {
        "id": "lYsU1WM4UNfh",
        "colab": {
          "base_uri": "https://localhost:8080/",
          "height": 295
        },
        "outputId": "d4c82fb2-d988-4e72-8cbe-7e682136aa01"
      },
      "source": [
        "# Análise gráfica\n",
        "# Diagrama de dispersão entre y (falha) e a temperatura\n",
        "plt.scatter(X1,y1,color = 'blue')\n",
        "plt.title(\"Aceitação (=1) do nível de ruído\")\n",
        "plt.xlabel(\"dB\")\n",
        "plt.ylabel(\"Aceita?\")\n",
        " \n",
        "# Cria um array com 50 valores\n",
        "x_graf = np.linspace(start = np.min(X1),stop = np.max(X1),num = 50)\n",
        "x_graf = x_graf.reshape(-1,1)           # Ajusta as dimensões: 50 linhas, 1 coluna\n",
        "y_graf = modelo1.predict_proba(x_graf)   # Calula os valores de y correspondentes\n",
        " \n",
        "# Traça a curva do modelo sobre o diagrama de dispersão\n",
        "plt.plot(x_graf,y_graf[:,1],color = 'black')  # Obs.: utiliza a segunda coluna de \"y_graf\"\n",
        "plt.show()    # \"Consolida\" a exibição dos gráficos"
      ],
      "execution_count": 5,
      "outputs": [
        {
          "output_type": "display_data",
          "data": {
            "image/png": "[encoded data removed]",
            "text/plain": [
              "<Figure size 432x288 with 1 Axes>"
            ]
          },
          "metadata": {
            "tags": [],
            "needs_background": "light"
          }
        }
      ]
    },
    {
      "cell_type": "code",
      "metadata": {
        "id": "5cFKxZ7CWQdp",
        "colab": {
          "base_uri": "https://localhost:8080/"
        },
        "outputId": "1ce1a091-129a-488d-c200-6e5e195e0914"
      },
      "source": [
        "# Matriz de confusão\n",
        "from sklearn.metrics import confusion_matrix, classification_report\n",
        "\n",
        "y1_prev = modelo1.predict(X1)\n",
        "print(confusion_matrix(y1,y1_prev))"
      ],
      "execution_count": 6,
      "outputs": [
        {
          "output_type": "stream",
          "text": [
            "[[31  6]\n",
            " [ 8 32]]\n"
          ],
          "name": "stdout"
        }
      ]
    },
    {
      "cell_type": "code",
      "metadata": {
        "id": "34vPu7UkXAdz",
        "colab": {
          "base_uri": "https://localhost:8080/"
        },
        "outputId": "179edbdb-7e1e-4605-e720-22cce11385c7"
      },
      "source": [
        "print(classification_report(y1,y1_prev))"
      ],
      "execution_count": 7,
      "outputs": [
        {
          "output_type": "stream",
          "text": [
            "              precision    recall  f1-score   support\n",
            "\n",
            "           0       0.79      0.84      0.82        37\n",
            "           1       0.84      0.80      0.82        40\n",
            "\n",
            "    accuracy                           0.82        77\n",
            "   macro avg       0.82      0.82      0.82        77\n",
            "weighted avg       0.82      0.82      0.82        77\n",
            "\n"
          ],
          "name": "stdout"
        }
      ]
    },
    {
      "cell_type": "code",
      "metadata": {
        "id": "3RsiC5Xib2sx",
        "colab": {
          "base_uri": "https://localhost:8080/"
        },
        "outputId": "ac26590b-50e3-413d-dfd9-1f9446b6fb0b"
      },
      "source": [
        "print(modelo1.score(X1,y1))"
      ],
      "execution_count": 8,
      "outputs": [
        {
          "output_type": "stream",
          "text": [
            "0.8181818181818182\n"
          ],
          "name": "stdout"
        }
      ]
    },
    {
      "cell_type": "code",
      "metadata": {
        "id": "Xj4VgM-UcVxW",
        "colab": {
          "base_uri": "https://localhost:8080/",
          "height": 279
        },
        "outputId": "00309f7f-2001-4cf0-aac8-36120c7a552f"
      },
      "source": [
        "# Curva ROC do modelo 1\n",
        "from sklearn.metrics import plot_roc_curve\n",
        "\n",
        "plot_roc_curve(modelo1,X1,y1)\n",
        "plt.plot([0,1],[0,1], 'k--',color='green') # Curva modelo aleatório\n",
        "plt.show()"
      ],
      "execution_count": 9,
      "outputs": [
        {
          "output_type": "display_data",
          "data": {
            "image/png": "[encoded data removed]",
            "text/plain": [
              "<Figure size 432x288 with 1 Axes>"
            ]
          },
          "metadata": {
            "tags": [],
            "needs_background": "light"
          }
        }
      ]
    },
    {
      "cell_type": "markdown",
      "metadata": {
        "id": "fNperFUMjeoD"
      },
      "source": [
        "# Ex3 - KNN"
      ]
    },
    {
      "cell_type": "code",
      "metadata": {
        "id": "--QIs0wWjh7w",
        "colab": {
          "base_uri": "https://localhost:8080/"
        },
        "outputId": "f6777d02-ffa0-475a-cc74-5323ce1470dc"
      },
      "source": [
        "# Classificação via algoritmo KNN\n",
        "from sklearn.preprocessing import StandardScaler\n",
        "from sklearn.neighbors import KNeighborsClassifier\n",
        " \n",
        "escalador = StandardScaler()   # Instância\n",
        "escalador.fit(X1)\n",
        " \n",
        "# Normalização\n",
        "X1_Norm = escalador.transform(X1)\n",
        " \n",
        "# Treinamento do modelo\n",
        "modeloKNN = KNeighborsClassifier(n_neighbors = 1)\n",
        "modeloKNN.fit(X1_Norm,y1)\n",
        " \n",
        "# Matriz de confusão e métricas para o modelo de classificação via KNN\n",
        "y_prevKNN = modeloKNN.predict(X1_Norm)   # Usa os dados de treino\n",
        " \n",
        "print(confusion_matrix(y1,y_prevKNN))\n",
        "print(classification_report(y1,y_prevKNN))"
      ],
      "execution_count": 10,
      "outputs": [
        {
          "output_type": "stream",
          "text": [
            "[[37  0]\n",
            " [ 1 39]]\n",
            "              precision    recall  f1-score   support\n",
            "\n",
            "           0       0.97      1.00      0.99        37\n",
            "           1       1.00      0.97      0.99        40\n",
            "\n",
            "    accuracy                           0.99        77\n",
            "   macro avg       0.99      0.99      0.99        77\n",
            "weighted avg       0.99      0.99      0.99        77\n",
            "\n"
          ],
          "name": "stdout"
        }
      ]
    },
    {
      "cell_type": "code",
      "metadata": {
        "id": "qNNY4jwiH7x3",
        "colab": {
          "base_uri": "https://localhost:8080/",
          "height": 279
        },
        "outputId": "9c61f8cc-d1b0-427e-b7cb-1af0814f37f7"
      },
      "source": [
        "plot_roc_curve(modeloKNN,X1_Norm,y1)\n",
        "plt.plot([0,1],[0,1], 'k--',color='green') # Curva modelo aleatório\n",
        "plt.show()"
      ],
      "execution_count": 11,
      "outputs": [
        {
          "output_type": "display_data",
          "data": {
            "image/png": "[encoded data removed]",
            "text/plain": [
              "<Figure size 432x288 with 1 Axes>"
            ]
          },
          "metadata": {
            "tags": [],
            "needs_background": "light"
          }
        }
      ]
    }
  ]
}