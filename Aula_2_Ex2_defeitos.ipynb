{
  "nbformat": 4,
  "nbformat_minor": 0,
  "metadata": {
    "colab": {
      "name": "Aula 2 - Ex2 defeitos.ipynb",
      "provenance": [],
      "collapsed_sections": [],
      "mount_file_id": "1Ey_GpHMo-TbTkEkOZBollYLb92cGcLJJ",
      "authorship_tag": "ABX9TyONMRNh6PRMarV+MdTuv+qD",
      "include_colab_link": true
    },
    "kernelspec": {
      "name": "python3",
      "display_name": "Python 3"
    }
  },
  "cells": [
    {
      "cell_type": "markdown",
      "metadata": {
        "id": "view-in-github",
        "colab_type": "text"
      },
      "source": [
        "<a href=\"https://colab.research.google.com/github/Lucas-Buk/Machine-Learning-Metodos-Nao-Prob/blob/main/Aula_2_Ex2_defeitos.ipynb\" target=\"_parent\"><img src=\"https://colab.research.google.com/assets/colab-badge.svg\" alt=\"Open In Colab\"/></a>"
      ]
    },
    {
      "cell_type": "markdown",
      "metadata": {
        "id": "Ug3eHE_Y3ajo"
      },
      "source": [
        "**Ex 2 - Aula 2**"
      ]
    },
    {
      "cell_type": "code",
      "metadata": {
        "id": "0WNas2pK2HLs"
      },
      "source": [
        "import pandas as pd\n",
        "import numpy as np\n",
        "from matplotlib import pyplot as plt\n",
        "from sklearn.linear_model import LinearRegression"
      ],
      "execution_count": 1,
      "outputs": []
    },
    {
      "cell_type": "code",
      "metadata": {
        "id": "TK2FlPpy3CnK",
        "colab": {
          "base_uri": "https://localhost:8080/",
          "height": 204
        },
        "outputId": "6fa9db9d-f7b1-49d3-96de-d0235edf6f7a"
      },
      "source": [
        "df = pd.read_csv('/content/drive/My Drive/Colab Notebooks/Pós/ML MNP/Datasets/A2EX2-defeitos.csv')\n",
        "df.head()"
      ],
      "execution_count": 2,
      "outputs": [
        {
          "output_type": "execute_result",
          "data": {
            "text/html": [
              "<div>\n",
              "<style scoped>\n",
              "    .dataframe tbody tr th:only-of-type {\n",
              "        vertical-align: middle;\n",
              "    }\n",
              "\n",
              "    .dataframe tbody tr th {\n",
              "        vertical-align: top;\n",
              "    }\n",
              "\n",
              "    .dataframe thead th {\n",
              "        text-align: right;\n",
              "    }\n",
              "</style>\n",
              "<table border=\"1\" class=\"dataframe\">\n",
              "  <thead>\n",
              "    <tr style=\"text-align: right;\">\n",
              "      <th></th>\n",
              "      <th>x1</th>\n",
              "      <th>x2</th>\n",
              "      <th>y</th>\n",
              "    </tr>\n",
              "  </thead>\n",
              "  <tbody>\n",
              "    <tr>\n",
              "      <th>0</th>\n",
              "      <td>18</td>\n",
              "      <td>2.0</td>\n",
              "      <td>12</td>\n",
              "    </tr>\n",
              "    <tr>\n",
              "      <th>1</th>\n",
              "      <td>16</td>\n",
              "      <td>3.0</td>\n",
              "      <td>3</td>\n",
              "    </tr>\n",
              "    <tr>\n",
              "      <th>2</th>\n",
              "      <td>25</td>\n",
              "      <td>2.0</td>\n",
              "      <td>11</td>\n",
              "    </tr>\n",
              "    <tr>\n",
              "      <th>3</th>\n",
              "      <td>12</td>\n",
              "      <td>3.0</td>\n",
              "      <td>1</td>\n",
              "    </tr>\n",
              "    <tr>\n",
              "      <th>4</th>\n",
              "      <td>20</td>\n",
              "      <td>3.0</td>\n",
              "      <td>13</td>\n",
              "    </tr>\n",
              "  </tbody>\n",
              "</table>\n",
              "</div>"
            ],
            "text/plain": [
              "   x1   x2   y\n",
              "0  18  2.0  12\n",
              "1  16  3.0   3\n",
              "2  25  2.0  11\n",
              "3  12  3.0   1\n",
              "4  20  3.0  13"
            ]
          },
          "metadata": {
            "tags": []
          },
          "execution_count": 2
        }
      ]
    },
    {
      "cell_type": "code",
      "metadata": {
        "id": "oCqeko8y3PVJ",
        "colab": {
          "base_uri": "https://localhost:8080/"
        },
        "outputId": "e69d226a-bded-472f-c83d-4c4a8201fca1"
      },
      "source": [
        "x1 = df['x1']\n",
        "x2 = df['x2']\n",
        "x12 = df[['x1','x2']]\n",
        "y = df['y']\n",
        "\n",
        "print(f\"Dimensões de x12: {x12.shape}\")\n",
        "print(f\"Dimensões de y: {y.shape}\")"
      ],
      "execution_count": 3,
      "outputs": [
        {
          "output_type": "stream",
          "text": [
            "Dimensões de x12: (24, 2)\n",
            "Dimensões de y: (24,)\n"
          ],
          "name": "stdout"
        }
      ]
    },
    {
      "cell_type": "code",
      "metadata": {
        "id": "mjPHYYL63ZIC",
        "colab": {
          "base_uri": "https://localhost:8080/",
          "height": 573
        },
        "outputId": "8024ca3f-643a-4f06-a637-b39a7af538d1"
      },
      "source": [
        "# Diagrama de dispersão entre y e x1\n",
        "plt.scatter(x1,y,color = 'blue')\n",
        "plt.title(\"y vs x1\")\n",
        "plt.xlabel(\"x1\")\n",
        "plt.ylabel(\"y\")\n",
        "plt.show()\n",
        "\n",
        "# Diagrama de dispersão entre y e x2\n",
        "plt.title(\"y vs x2\")\n",
        "plt.scatter(x2,y,color = 'red')\n",
        "plt.xlabel(\"x2\")\n",
        "plt.ylabel(\"y\")\n",
        "plt.show()"
      ],
      "execution_count": 4,
      "outputs": [
        {
          "output_type": "display_data",
          "data": {
            "image/png": "[encoded data removed]",
            "text/plain": [
              "<Figure size 432x288 with 1 Axes>"
            ]
          },
          "metadata": {
            "tags": [],
            "needs_background": "light"
          }
        },
        {
          "output_type": "display_data",
          "data": {
            "image/png": "[encoded data removed]",
            "text/plain": [
              "<Figure size 432x288 with 1 Axes>"
            ]
          },
          "metadata": {
            "tags": [],
            "needs_background": "light"
          }
        }
      ]
    },
    {
      "cell_type": "markdown",
      "metadata": {
        "id": "RDb2i8wl_ZfO"
      },
      "source": [
        "x1 tem uma relação linear mais bem definida com y do que x2"
      ]
    },
    {
      "cell_type": "code",
      "metadata": {
        "id": "7RDn6sM73-hM",
        "colab": {
          "base_uri": "https://localhost:8080/"
        },
        "outputId": "6605f5f0-2b53-4407-c1dc-2a418d63dc3b"
      },
      "source": [
        "mod = LinearRegression()\n",
        "mod.fit(x12,y)\n",
        "\n",
        "print(f'Coeficiente linear: {mod.intercept_}')\n",
        "print(f'Coeficientes angulares: {mod.coef_}')"
      ],
      "execution_count": 5,
      "outputs": [
        {
          "output_type": "stream",
          "text": [
            "Coeficiente linear: -8.188032769956411\n",
            "Coeficientes angulares: [0.83471906 0.04145234]\n"
          ],
          "name": "stdout"
        }
      ]
    },
    {
      "cell_type": "code",
      "metadata": {
        "id": "Ku-h_Gt-5nYN",
        "colab": {
          "base_uri": "https://localhost:8080/"
        },
        "outputId": "9867ab37-2b27-4178-adf0-8e39b5d58a29"
      },
      "source": [
        "#a) Cálculo do R² do modelo\n",
        "print(f'R^2 = {mod.score(x12,y)}')"
      ],
      "execution_count": 6,
      "outputs": [
        {
          "output_type": "stream",
          "text": [
            "R^2 = 0.7887513857789631\n"
          ],
          "name": "stdout"
        }
      ]
    },
    {
      "cell_type": "markdown",
      "metadata": {
        "id": "MaskGMrQAk4c"
      },
      "source": [
        "R² possui valor de 0.789 para o ajuste proporcionado nessa regressão linear múltipla"
      ]
    },
    {
      "cell_type": "code",
      "metadata": {
        "id": "Q72iREbb6LXp",
        "colab": {
          "base_uri": "https://localhost:8080/"
        },
        "outputId": "0b29e25f-da77-4919-dbd1-19ba908c7e7e"
      },
      "source": [
        "#b) Previsão do modelo\n",
        "x_teste = np.array([30,2]).reshape(-1,2)\n",
        "print(f'Defeitos com x1 = 30 e x2 = 2: {mod.predict(x_teste)}') "
      ],
      "execution_count": 7,
      "outputs": [
        {
          "output_type": "stream",
          "text": [
            "Defeitos com x1 = 30 e x2 = 2: [16.9364436]\n"
          ],
          "name": "stdout"
        }
      ]
    },
    {
      "cell_type": "markdown",
      "metadata": {
        "id": "VSTpwdvyAJWu"
      },
      "source": [
        "Seriam 17 itens defeituosos diários produzidos tendo 30 unidades/hora e 2 semanas sem manutenção"
      ]
    },
    {
      "cell_type": "code",
      "metadata": {
        "id": "JKR16gH7BiRj",
        "colab": {
          "base_uri": "https://localhost:8080/"
        },
        "outputId": "e09ac06d-c2af-438a-8695-93d009c8b5c2"
      },
      "source": [
        "#b) Previsão do modelo p/ 3 semanas\n",
        "x_teste = np.array([30,3]).reshape(-1,2)\n",
        "print(f'Defeitos com x1 = 30 e x2 = 3: {mod.predict(x_teste)[0]}') "
      ],
      "execution_count": 8,
      "outputs": [
        {
          "output_type": "stream",
          "text": [
            "Defeitos com x1 = 30 e x2 = 3: 16.97789593214877\n"
          ],
          "name": "stdout"
        }
      ]
    },
    {
      "cell_type": "markdown",
      "metadata": {
        "id": "pwScuu9LBtAJ"
      },
      "source": [
        "Não houve grande mudança em relação à previsão anterior, o valor somente aproximou-se mais de 17 itens defeituosos diários"
      ]
    }
  ]
}