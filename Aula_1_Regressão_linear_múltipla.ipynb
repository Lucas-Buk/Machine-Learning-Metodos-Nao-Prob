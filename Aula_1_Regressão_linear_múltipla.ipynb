{
  "nbformat": 4,
  "nbformat_minor": 0,
  "metadata": {
    "colab": {
      "name": "Aula 1 - Regressão linear múltipla.ipynb",
      "provenance": [],
      "collapsed_sections": [],
      "include_colab_link": true
    },
    "kernelspec": {
      "name": "python3",
      "display_name": "Python 3"
    }
  },
  "cells": [
    {
      "cell_type": "markdown",
      "metadata": {
        "id": "view-in-github",
        "colab_type": "text"
      },
      "source": [
        "<a href=\"https://colab.research.google.com/github/Lucas-Buk/Machine-Learning-Metodos-Nao-Prob/blob/main/Aula_1_Regress%C3%A3o_linear_m%C3%BAltipla.ipynb\" target=\"_parent\"><img src=\"https://colab.research.google.com/assets/colab-badge.svg\" alt=\"Open In Colab\"/></a>"
      ]
    },
    {
      "cell_type": "markdown",
      "metadata": {
        "id": "W3K2vfM7sgq0"
      },
      "source": [
        "# **Machine Learning - Métodos Não Probabilísticos**\n",
        "## **Aula 1 - exemplo 2**: regressão linear múltipla"
      ]
    },
    {
      "cell_type": "code",
      "metadata": {
        "id": "9HCkxdJBsS6j",
        "colab": {
          "base_uri": "https://localhost:8080/",
          "height": 851
        },
        "outputId": "f01ad631-b4b4-415f-e073-dd205be8d843"
      },
      "source": [
        "# Importação das bibliotecas e métodos necessários\n",
        "import numpy as np\n",
        "from matplotlib import pyplot as plt\n",
        "from sklearn.linear_model import LinearRegression\n",
        "\n",
        "# Conjunto de dados 2 (25 pares de valores): supõe-se que y = f(x1,x2)\n",
        "x1 = [2, 8, 11, 10, 8, 4, 2, 2, 9, 8, 4, 11, 12, 2, 4, 4, 20, 1, 10, 15, 15, 16, 17, 6, 5]\n",
        "x2 = [50, 110, 120, 550, 295, 200, 375, 52, 100, 300, 412, 400, 500, 360, 205, 400, 600, 585, 540, 250, 290, 510, 590, 100, 400]\n",
        "y = [9.95, 24.45, 31.75, 35, 25.02, 16.86, 14.38, 9.6, 24.35, 27.5, 17.08, 37, 41.95, 11.66, 21.65, 17.89, 69, 10.3, 34.93, 46.59, 44.88, 54.12, 56.63, 22.13, 21.15]\n",
        "\n",
        "# Análises visuais\n",
        "# Diagrama de dispersão entre y e x1\n",
        "plt.scatter(x1,y,color = 'blue')\n",
        "plt.title(\"y vs x1\")\n",
        "plt.xlabel(\"x1\")\n",
        "plt.ylabel(\"y\")\n",
        "plt.show()\n",
        "\n",
        "# Diagrama de dispersão entre y e x2\n",
        "plt.title(\"y vs x2\")\n",
        "plt.scatter(x2,y,color = 'green')\n",
        "plt.xlabel(\"x2\")\n",
        "plt.ylabel(\"y\")\n",
        "plt.show()\n",
        "\n",
        "# Diagrama de dispersão entre x1 e x2\n",
        "plt.title(\"x1 vs x2\")\n",
        "plt.scatter(x1,x2,color = 'red')\n",
        "plt.xlabel(\"x1\")\n",
        "plt.ylabel(\"x2\")\n",
        "plt.show()"
      ],
      "execution_count": 1,
      "outputs": [
        {
          "output_type": "display_data",
          "data": {
            "image/png": "[encoded data removed]",
            "text/plain": [
              "<Figure size 432x288 with 1 Axes>"
            ]
          },
          "metadata": {
            "tags": [],
            "needs_background": "light"
          }
        },
        {
          "output_type": "display_data",
          "data": {
            "image/png": "[encoded data removed]",
            "text/plain": [
              "<Figure size 432x288 with 1 Axes>"
            ]
          },
          "metadata": {
            "tags": [],
            "needs_background": "light"
          }
        },
        {
          "output_type": "display_data",
          "data": {
            "image/png": "[encoded data removed]",
            "text/plain": [
              "<Figure size 432x288 with 1 Axes>"
            ]
          },
          "metadata": {
            "tags": [],
            "needs_background": "light"
          }
        }
      ]
    },
    {
      "cell_type": "code",
      "metadata": {
        "id": "aDKdjELpwCpZ",
        "colab": {
          "base_uri": "https://localhost:8080/"
        },
        "outputId": "01ad1b86-5988-40b9-8e4e-531a0b7dd8db"
      },
      "source": [
        "# Análise das correlações lineares entre os dados do conjunto 2\n",
        "# Critério: |r| entre 0 e 0,4: fraca\n",
        "#           |r| acima de 0,4 e abaixo de 0,7: moderada\n",
        "#           |r| maior ou igual a 0,7: forte\n",
        "print(np.corrcoef(x1,y))    # Entre x1 e y\n",
        "print(np.corrcoef(x2,y))    # Entre x2 e y\n",
        "print(np.corrcoef(x1,x2))   # Entre x1 e x2"
      ],
      "execution_count": 2,
      "outputs": [
        {
          "output_type": "stream",
          "text": [
            "[[1.         0.98181178]\n",
            " [0.98181178 1.        ]]\n",
            "[[1.         0.49286659]\n",
            " [0.49286659 1.        ]]\n",
            "[[1.         0.37841269]\n",
            " [0.37841269 1.        ]]\n"
          ],
          "name": "stdout"
        }
      ]
    },
    {
      "cell_type": "code",
      "metadata": {
        "id": "NJ0Ylsn1wYxO",
        "colab": {
          "base_uri": "https://localhost:8080/"
        },
        "outputId": "e486cc3d-c2fc-46b8-9ea4-bd9f73f5df50"
      },
      "source": [
        "# Criação do modelo 2\n",
        "# Regressão linear múltipla da forma y1^ = f(x1,x2) = theta_0 + theta_1*x1 + theta_2*x2\n",
        "# Preparação dos dados\n",
        "x12 = np.array([x1,x2]) # Cria um array com as listas de valores de \"x1\" e \"x2\"\n",
        "x12 = x12.transpose()   # Transpõe o array para a dimensão correta (25 linhas, 2 colunas)\n",
        "y = np.array(y)         # Transforma a lista de valores \"y\" em um array com 1 coluna\n",
        "\n",
        "# \"Checagem\" das dimensões dos arrays\n",
        "print(\"Dimensões de x12:\",x12.shape)  # Dimensões corretas: (n_pontos,n_variáveis)\n",
        "print(\"Dimensões de y:\",y.shape)      # Dimensões corretas: (n_pontos,)"
      ],
      "execution_count": 3,
      "outputs": [
        {
          "output_type": "stream",
          "text": [
            "Dimensões de x12: (25, 2)\n",
            "Dimensões de y: (25,)\n"
          ],
          "name": "stdout"
        }
      ]
    },
    {
      "cell_type": "code",
      "metadata": {
        "id": "n-00phhLWWXx",
        "colab": {
          "base_uri": "https://localhost:8080/"
        },
        "outputId": "af259d74-7cd5-4519-d546-e5bc60344c5e"
      },
      "source": [
        "# Treinamento do modelo\n",
        "modelo2 = LinearRegression()  # Cria instância de objeto \"modelo de regressão linear\"\n",
        "modelo2.fit(x12,y)            # Treina o modelo com os dados disponíveis\n",
        "\n",
        "# Exibição dos parâmetros do modelo 2\n",
        "print(\"Coeficiente linear =\",modelo2.intercept_)  # theta_0\n",
        "print(\"Coeficientes angulares =\",modelo2.coef_)   # theta_1, theta_2"
      ],
      "execution_count": 4,
      "outputs": [
        {
          "output_type": "stream",
          "text": [
            "Coeficiente linear = 2.2637914344045704\n",
            "Coeficientes angulares = [2.74426964 0.01252781]\n"
          ],
          "name": "stdout"
        }
      ]
    },
    {
      "cell_type": "code",
      "metadata": {
        "id": "TXVoHNWQ-XYQ",
        "colab": {
          "base_uri": "https://localhost:8080/"
        },
        "outputId": "96b84ffd-56ae-43b4-bb94-f87542b422c4"
      },
      "source": [
        "# Exemplo de uma previsão pontual: (x1,x2) = (12,70)\n",
        "x_teste = np.array([12,70]).reshape(-1,2)   # Array de teste: 1 linha, 2 colunas\n",
        "print(modelo2.predict(x_teste))             # Calcula e exibe y^(12,70)"
      ],
      "execution_count": 5,
      "outputs": [
        {
          "output_type": "stream",
          "text": [
            "[36.07197395]\n"
          ],
          "name": "stdout"
        }
      ]
    }
  ]
}