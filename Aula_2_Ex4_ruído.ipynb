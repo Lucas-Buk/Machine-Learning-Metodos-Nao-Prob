{
  "nbformat": 4,
  "nbformat_minor": 0,
  "metadata": {
    "colab": {
      "name": "Aula 2 - Ex4 ruído.ipynb",
      "provenance": [],
      "collapsed_sections": [],
      "mount_file_id": "1egz6uySTQywCc5j9x1vlCkon_kJKZfl3",
      "authorship_tag": "ABX9TyO5ml07SvsmzRMlxw0TIZqQ",
      "include_colab_link": true
    },
    "kernelspec": {
      "name": "python3",
      "display_name": "Python 3"
    }
  },
  "cells": [
    {
      "cell_type": "markdown",
      "metadata": {
        "id": "view-in-github",
        "colab_type": "text"
      },
      "source": [
        "<a href=\"https://colab.research.google.com/github/Lucas-Buk/Machine-Learning-Metodos-Nao-Prob/blob/main/Aula_2_Ex4_ru%C3%ADdo.ipynb\" target=\"_parent\"><img src=\"https://colab.research.google.com/assets/colab-badge.svg\" alt=\"Open In Colab\"/></a>"
      ]
    },
    {
      "cell_type": "markdown",
      "metadata": {
        "id": "_1Ooarzej269"
      },
      "source": [
        "# **Ex 4: Regressão Logística**"
      ]
    },
    {
      "cell_type": "code",
      "metadata": {
        "id": "iyD2by9NjxoN"
      },
      "source": [
        "# Importação das bibliotecas e métodos necessários\n",
        "import pandas as pd\n",
        "import numpy as np\n",
        "from matplotlib import pyplot as plt\n",
        "from sklearn.linear_model import LogisticRegression"
      ],
      "execution_count": 1,
      "outputs": []
    },
    {
      "cell_type": "code",
      "metadata": {
        "id": "6YzJbkm4kF-4",
        "colab": {
          "base_uri": "https://localhost:8080/",
          "height": 204
        },
        "outputId": "9d206e92-522b-4087-d2e4-db52db109b49"
      },
      "source": [
        "# Leitura dos dados externos\n",
        "DF = pd.read_csv('/content/drive/My Drive/Colab Notebooks/Pós/ML MNP/Datasets/A2EX4-ruído.csv')\n",
        "DF.head()"
      ],
      "execution_count": 2,
      "outputs": [
        {
          "output_type": "execute_result",
          "data": {
            "text/html": [
              "<div>\n",
              "<style scoped>\n",
              "    .dataframe tbody tr th:only-of-type {\n",
              "        vertical-align: middle;\n",
              "    }\n",
              "\n",
              "    .dataframe tbody tr th {\n",
              "        vertical-align: top;\n",
              "    }\n",
              "\n",
              "    .dataframe thead th {\n",
              "        text-align: right;\n",
              "    }\n",
              "</style>\n",
              "<table border=\"1\" class=\"dataframe\">\n",
              "  <thead>\n",
              "    <tr style=\"text-align: right;\">\n",
              "      <th></th>\n",
              "      <th>Nivel</th>\n",
              "      <th>Aceitavel</th>\n",
              "    </tr>\n",
              "  </thead>\n",
              "  <tbody>\n",
              "    <tr>\n",
              "      <th>0</th>\n",
              "      <td>55.3</td>\n",
              "      <td>1</td>\n",
              "    </tr>\n",
              "    <tr>\n",
              "      <th>1</th>\n",
              "      <td>56.1</td>\n",
              "      <td>1</td>\n",
              "    </tr>\n",
              "    <tr>\n",
              "      <th>2</th>\n",
              "      <td>57.9</td>\n",
              "      <td>1</td>\n",
              "    </tr>\n",
              "    <tr>\n",
              "      <th>3</th>\n",
              "      <td>65.3</td>\n",
              "      <td>1</td>\n",
              "    </tr>\n",
              "    <tr>\n",
              "      <th>4</th>\n",
              "      <td>55.9</td>\n",
              "      <td>1</td>\n",
              "    </tr>\n",
              "  </tbody>\n",
              "</table>\n",
              "</div>"
            ],
            "text/plain": [
              "   Nivel  Aceitavel\n",
              "0   55.3          1\n",
              "1   56.1          1\n",
              "2   57.9          1\n",
              "3   65.3          1\n",
              "4   55.9          1"
            ]
          },
          "metadata": {
            "tags": []
          },
          "execution_count": 2
        }
      ]
    },
    {
      "cell_type": "code",
      "metadata": {
        "id": "ryb13uOmkapo",
        "colab": {
          "base_uri": "https://localhost:8080/"
        },
        "outputId": "8abc665d-5487-4e44-c874-4698b6a07e98"
      },
      "source": [
        "# Seleção de dados do DataFrame\n",
        "X = DF['Nivel']    # Valores de nível de ruído (\"x\")\n",
        "y = DF['Aceitavel']   # Aceitável (\"y = 1\")\n",
        "\n",
        "X = X.values.reshape(-1,1)\t# Converte e ajusta as dimensões\n",
        "\n",
        "# Checagem das variáveis criadas\n",
        "print(f'Dimensões do dataframe: {DF.shape}')\n",
        "\n",
        "print(f'Dimensões: {X.shape}')\n",
        "\n",
        "print(f'Dimensões: {y.shape}')"
      ],
      "execution_count": 3,
      "outputs": [
        {
          "output_type": "stream",
          "text": [
            "Dimensões do dataframe: (77, 2)\n",
            "Dimensões: (77, 1)\n",
            "Dimensões: (77,)\n"
          ],
          "name": "stdout"
        }
      ]
    },
    {
      "cell_type": "code",
      "metadata": {
        "id": "vXFpXheqk4Lv",
        "colab": {
          "base_uri": "https://localhost:8080/",
          "height": 295
        },
        "outputId": "b4498399-c533-4acd-d476-e21889ccf231"
      },
      "source": [
        "# Análise gráfica\n",
        "# Diagrama de dispersão entre y e o nível de ruído\n",
        "plt.scatter(X,y,color = 'blue')\n",
        "plt.title(\"Aceitável (y = 1) em função do nível de ruído\")\n",
        "plt.xlabel(\"Ruído\")\n",
        "plt.ylabel(\"Aceitável\")\n",
        "plt.show()"
      ],
      "execution_count": 4,
      "outputs": [
        {
          "output_type": "display_data",
          "data": {
            "image/png": "[encoded data removed]",
            "text/plain": [
              "<Figure size 432x288 with 1 Axes>"
            ]
          },
          "metadata": {
            "tags": [],
            "needs_background": "light"
          }
        }
      ]
    },
    {
      "cell_type": "code",
      "metadata": {
        "id": "7wAOWI4glTZz",
        "colab": {
          "base_uri": "https://localhost:8080/"
        },
        "outputId": "77a65bad-1f86-428f-e9b5-f0a2ed28f87c"
      },
      "source": [
        "# Criação do modelo de regressão logística binária\n",
        "# Treinamento do modelo\n",
        "modelo = LogisticRegression()\n",
        "modelo.fit(X,y)\n",
        "\n",
        "# Exibição dos parâmetros do modelo\n",
        "print(f'Beta0 = {modelo.intercept_}')\n",
        "print(f'Beta1 = {modelo.coef_}')"
      ],
      "execution_count": 5,
      "outputs": [
        {
          "output_type": "stream",
          "text": [
            "Beta0 = [22.87530798]\n",
            "Beta1 = [[-0.35404057]]\n"
          ],
          "name": "stdout"
        }
      ]
    },
    {
      "cell_type": "code",
      "metadata": {
        "id": "X2ch5ERjlX4t",
        "colab": {
          "base_uri": "https://localhost:8080/"
        },
        "outputId": "7aefc90c-9d30-41a7-fb74-36a9d3fa1fae"
      },
      "source": [
        "print(f'Percentual de acertos (R²): {modelo.score(X,y)}')"
      ],
      "execution_count": 6,
      "outputs": [
        {
          "output_type": "stream",
          "text": [
            "Percentual de acertos (R²): 0.8181818181818182\n"
          ],
          "name": "stdout"
        }
      ]
    }
  ]
}