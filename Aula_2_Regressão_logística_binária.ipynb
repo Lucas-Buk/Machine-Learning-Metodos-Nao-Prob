{
  "nbformat": 4,
  "nbformat_minor": 0,
  "metadata": {
    "colab": {
      "name": "Aula 2 - Regressão logística binária.ipynb",
      "provenance": [],
      "collapsed_sections": [],
      "include_colab_link": true
    },
    "kernelspec": {
      "name": "python3",
      "display_name": "Python 3"
    }
  },
  "cells": [
    {
      "cell_type": "markdown",
      "metadata": {
        "id": "view-in-github",
        "colab_type": "text"
      },
      "source": [
        "<a href=\"https://colab.research.google.com/github/Lucas-Buk/Machine-Learning-Metodos-Nao-Prob/blob/main/Aula_2_Regress%C3%A3o_log%C3%ADstica_bin%C3%A1ria.ipynb\" target=\"_parent\"><img src=\"https://colab.research.google.com/assets/colab-badge.svg\" alt=\"Open In Colab\"/></a>"
      ]
    },
    {
      "cell_type": "markdown",
      "metadata": {
        "id": "W3K2vfM7sgq0"
      },
      "source": [
        "# **Machine Learning - Métodos Não Probabilísticos**\n",
        "## **Aula 2 - exemplo 3**: regressão logística binária"
      ]
    },
    {
      "cell_type": "markdown",
      "metadata": {
        "id": "IqMdygnMyDKh"
      },
      "source": [
        "**ATENÇÃO**: A PRIMEIRA CÉLULA DE CÓDIGO DEVERÁ CRIAR A CONEXÃO ENTRE ESTE NOTEBOOK E O GOOGLE DRIVE!"
      ]
    },
    {
      "cell_type": "code",
      "metadata": {
        "id": "Obsxd8pgc6Wi",
        "colab": {
          "base_uri": "https://localhost:8080/"
        },
        "outputId": "d69b4466-1825-4e4b-ca07-b3c6f984a787"
      },
      "source": [
        "from google.colab import drive\n",
        "drive.mount('/content/drive')"
      ],
      "execution_count": 1,
      "outputs": [
        {
          "output_type": "stream",
          "text": [
            "Mounted at /content/drive\n"
          ],
          "name": "stdout"
        }
      ]
    },
    {
      "cell_type": "code",
      "metadata": {
        "id": "9HCkxdJBsS6j"
      },
      "source": [
        "# Importação das bibliotecas e métodos necessários\n",
        "import pandas as pd\n",
        "import numpy as np\n",
        "from matplotlib import pyplot as plt\n",
        "from sklearn.linear_model import LogisticRegression   # Novidade!"
      ],
      "execution_count": 2,
      "outputs": []
    },
    {
      "cell_type": "code",
      "metadata": {
        "id": "9fYS3A6QyOby",
        "colab": {
          "base_uri": "https://localhost:8080/",
          "height": 204
        },
        "outputId": "f76df8f2-ce0f-48ee-bbbc-73c5c4dec710"
      },
      "source": [
        "# Leitura dos dados externos\n",
        "# ATENÇÃO: o disco deve ser \"montado\" antes que esta célula possa ser executada!\n",
        "# ATENÇÃO 2: o endereço do arquivo de dados deve ser editado!!\n",
        "DF = pd.read_csv(\"/content/drive/My Drive/Colab Notebooks/Pós/ML MNP/Datasets/A2EXEMPLO3.csv\")\n",
        "DF.head()   # Exibe as 5 primeiras linhas do DataFrame"
      ],
      "execution_count": 3,
      "outputs": [
        {
          "output_type": "execute_result",
          "data": {
            "text/html": [
              "<div>\n",
              "<style scoped>\n",
              "    .dataframe tbody tr th:only-of-type {\n",
              "        vertical-align: middle;\n",
              "    }\n",
              "\n",
              "    .dataframe tbody tr th {\n",
              "        vertical-align: top;\n",
              "    }\n",
              "\n",
              "    .dataframe thead th {\n",
              "        text-align: right;\n",
              "    }\n",
              "</style>\n",
              "<table border=\"1\" class=\"dataframe\">\n",
              "  <thead>\n",
              "    <tr style=\"text-align: right;\">\n",
              "      <th></th>\n",
              "      <th>Temp</th>\n",
              "      <th>Falha</th>\n",
              "    </tr>\n",
              "  </thead>\n",
              "  <tbody>\n",
              "    <tr>\n",
              "      <th>0</th>\n",
              "      <td>46</td>\n",
              "      <td>0</td>\n",
              "    </tr>\n",
              "    <tr>\n",
              "      <th>1</th>\n",
              "      <td>54</td>\n",
              "      <td>0</td>\n",
              "    </tr>\n",
              "    <tr>\n",
              "      <th>2</th>\n",
              "      <td>45</td>\n",
              "      <td>0</td>\n",
              "    </tr>\n",
              "    <tr>\n",
              "      <th>3</th>\n",
              "      <td>68</td>\n",
              "      <td>0</td>\n",
              "    </tr>\n",
              "    <tr>\n",
              "      <th>4</th>\n",
              "      <td>51</td>\n",
              "      <td>0</td>\n",
              "    </tr>\n",
              "  </tbody>\n",
              "</table>\n",
              "</div>"
            ],
            "text/plain": [
              "   Temp  Falha\n",
              "0    46      0\n",
              "1    54      0\n",
              "2    45      0\n",
              "3    68      0\n",
              "4    51      0"
            ]
          },
          "metadata": {
            "tags": []
          },
          "execution_count": 3
        }
      ]
    },
    {
      "cell_type": "code",
      "metadata": {
        "id": "sFvmyMHYGq2k",
        "colab": {
          "base_uri": "https://localhost:8080/"
        },
        "outputId": "cb6fc9dd-1709-4b26-906c-374bd19f2086"
      },
      "source": [
        "# Seleção de dados do DataFrame\n",
        "X = DF['Temp']    # Valores de temperatura (\"x\")\n",
        "y = DF['Falha']   # Condição de falha (\"y = 1\")\n",
        "\n",
        "X = X.values.reshape(-1,1)\t# Converte e ajusta as dimensões\n",
        "\n",
        "# Checagem das variáveis criadas\n",
        "print(\"Dimensões do dataframe:\",DF.shape)\n",
        "\n",
        "print(\"\\n\")   # Pula uma linha\n",
        "print(\"Tipo de X =\",type(X))\n",
        "print(\"Dimensões:\",X.shape)\n",
        "\n",
        "print(\"\\n\")   # Pula uma linha\n",
        "print(\"Tipo de y =\",type(y))\n",
        "print(\"Dimensões:\",y.shape)"
      ],
      "execution_count": 4,
      "outputs": [
        {
          "output_type": "stream",
          "text": [
            "Dimensões do dataframe: (14, 2)\n",
            "\n",
            "\n",
            "Tipo de X = <class 'numpy.ndarray'>\n",
            "Dimensões: (14, 1)\n",
            "\n",
            "\n",
            "Tipo de y = <class 'pandas.core.series.Series'>\n",
            "Dimensões: (14,)\n"
          ],
          "name": "stdout"
        }
      ]
    },
    {
      "cell_type": "code",
      "metadata": {
        "id": "7hK6Y2Bh2-Zg",
        "colab": {
          "base_uri": "https://localhost:8080/",
          "height": 295
        },
        "outputId": "1ea8d6e3-f6ab-4d90-8bb3-ea83d87179ed"
      },
      "source": [
        "# Análise gráfica\n",
        "# Diagrama de dispersão entre y (falha) e a temperatura\n",
        "plt.scatter(X,y,color = 'blue')\n",
        "plt.title(\"Falha (=1) em função da temperatura\")\n",
        "plt.xlabel(\"Temperatura\")\n",
        "plt.ylabel(\"Falha\")\n",
        "plt.show()"
      ],
      "execution_count": 5,
      "outputs": [
        {
          "output_type": "display_data",
          "data": {
            "image/png": "[encoded data removed]",
            "text/plain": [
              "<Figure size 432x288 with 1 Axes>"
            ]
          },
          "metadata": {
            "tags": [],
            "needs_background": "light"
          }
        }
      ]
    },
    {
      "cell_type": "code",
      "metadata": {
        "id": "n-00phhLWWXx",
        "colab": {
          "base_uri": "https://localhost:8080/"
        },
        "outputId": "87c16cc8-33c1-4381-99d8-2ab617179dab"
      },
      "source": [
        "# Criação do modelo de regressão logística binária\n",
        "# Treinamento do modelo\n",
        "modelo = LogisticRegression()   # Cria instância de objeto \"modelo de regressão\"\n",
        "modelo.fit(X,y)                 # Treina o modelo com os dados disponíveis\n",
        "\n",
        "# Exibição dos parâmetros do modelo\n",
        "print(\"Beta0 =\",modelo.intercept_)\n",
        "print(\"Beta1 =\",modelo.coef_)"
      ],
      "execution_count": 6,
      "outputs": [
        {
          "output_type": "stream",
          "text": [
            "Beta0 = [-10.3515217]\n",
            "Beta1 = [[0.16355948]]\n"
          ],
          "name": "stdout"
        }
      ]
    },
    {
      "cell_type": "code",
      "metadata": {
        "id": "6ePuCr9mf4US",
        "colab": {
          "base_uri": "https://localhost:8080/"
        },
        "outputId": "8e0f9db5-1a77-4930-c3e6-0d1edd8514ce"
      },
      "source": [
        "print('Percentual de acertos:',modelo.score(X,y))"
      ],
      "execution_count": 7,
      "outputs": [
        {
          "output_type": "stream",
          "text": [
            "Percentual de acertos: 0.7142857142857143\n"
          ],
          "name": "stdout"
        }
      ]
    },
    {
      "cell_type": "code",
      "metadata": {
        "id": "RnTQ1evmh_pd",
        "colab": {
          "base_uri": "https://localhost:8080/"
        },
        "outputId": "b4348a8c-a6f0-4566-c308-98e4ef3f6843"
      },
      "source": [
        "x_teste = x_teste = np.array([58,75]).reshape(-1,1)\n",
        "print(modelo.predict_proba(x_teste))"
      ],
      "execution_count": 8,
      "outputs": [
        {
          "output_type": "stream",
          "text": [
            "[[0.70371918 0.29628082]\n",
            " [0.12837098 0.87162902]]\n"
          ],
          "name": "stdout"
        }
      ]
    },
    {
      "cell_type": "code",
      "metadata": {
        "id": "FXFoq1Z7iZis",
        "colab": {
          "base_uri": "https://localhost:8080/"
        },
        "outputId": "d2bf1fae-d154-43af-acc9-df73cc3a706a"
      },
      "source": [
        "print(f'Falha: {modelo.predict(x_teste)}')"
      ],
      "execution_count": 9,
      "outputs": [
        {
          "output_type": "stream",
          "text": [
            "Falha: [0 1]\n"
          ],
          "name": "stdout"
        }
      ]
    }
  ]
}