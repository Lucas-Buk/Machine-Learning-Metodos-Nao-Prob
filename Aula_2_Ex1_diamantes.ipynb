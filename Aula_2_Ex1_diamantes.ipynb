{
  "nbformat": 4,
  "nbformat_minor": 0,
  "metadata": {
    "colab": {
      "name": "Aula 2 - Ex1 diamantes.ipynb",
      "provenance": [],
      "collapsed_sections": [],
      "mount_file_id": "1M_8dqypi700U1MINAlcNa_p9nhTvTneM",
      "authorship_tag": "ABX9TyMS3ob5caz15dj9AfH9Uvle",
      "include_colab_link": true
    },
    "kernelspec": {
      "name": "python3",
      "display_name": "Python 3"
    }
  },
  "cells": [
    {
      "cell_type": "markdown",
      "metadata": {
        "id": "view-in-github",
        "colab_type": "text"
      },
      "source": [
        "<a href=\"https://colab.research.google.com/github/Lucas-Buk/Machine-Learning-Metodos-Nao-Prob/blob/main/Aula_2_Ex1_diamantes.ipynb\" target=\"_parent\"><img src=\"https://colab.research.google.com/assets/colab-badge.svg\" alt=\"Open In Colab\"/></a>"
      ]
    },
    {
      "cell_type": "markdown",
      "metadata": {
        "id": "Ug3eHE_Y3ajo"
      },
      "source": [
        "**Ex 1 - Aula 2**"
      ]
    },
    {
      "cell_type": "code",
      "metadata": {
        "id": "0WNas2pK2HLs"
      },
      "source": [
        "import pandas as pd\n",
        "import numpy as np\n",
        "from matplotlib import pyplot as plt\n",
        "from sklearn.linear_model import LinearRegression"
      ],
      "execution_count": 1,
      "outputs": []
    },
    {
      "cell_type": "code",
      "metadata": {
        "id": "TK2FlPpy3CnK",
        "colab": {
          "base_uri": "https://localhost:8080/",
          "height": 204
        },
        "outputId": "62fe2c35-4db8-4eff-805b-c5859b152451"
      },
      "source": [
        "df = pd.read_csv('/content/drive/My Drive/Colab Notebooks/Pós/ML MNP/Datasets/A2EX1-diamantes.csv')\n",
        "df.head()"
      ],
      "execution_count": 2,
      "outputs": [
        {
          "output_type": "execute_result",
          "data": {
            "text/html": [
              "<div>\n",
              "<style scoped>\n",
              "    .dataframe tbody tr th:only-of-type {\n",
              "        vertical-align: middle;\n",
              "    }\n",
              "\n",
              "    .dataframe tbody tr th {\n",
              "        vertical-align: top;\n",
              "    }\n",
              "\n",
              "    .dataframe thead th {\n",
              "        text-align: right;\n",
              "    }\n",
              "</style>\n",
              "<table border=\"1\" class=\"dataframe\">\n",
              "  <thead>\n",
              "    <tr style=\"text-align: right;\">\n",
              "      <th></th>\n",
              "      <th>Quilates</th>\n",
              "      <th>Preco</th>\n",
              "    </tr>\n",
              "  </thead>\n",
              "  <tbody>\n",
              "    <tr>\n",
              "      <th>0</th>\n",
              "      <td>0.30</td>\n",
              "      <td>1302</td>\n",
              "    </tr>\n",
              "    <tr>\n",
              "      <th>1</th>\n",
              "      <td>0.30</td>\n",
              "      <td>1510</td>\n",
              "    </tr>\n",
              "    <tr>\n",
              "      <th>2</th>\n",
              "      <td>0.30</td>\n",
              "      <td>1510</td>\n",
              "    </tr>\n",
              "    <tr>\n",
              "      <th>3</th>\n",
              "      <td>0.30</td>\n",
              "      <td>1260</td>\n",
              "    </tr>\n",
              "    <tr>\n",
              "      <th>4</th>\n",
              "      <td>0.31</td>\n",
              "      <td>1641</td>\n",
              "    </tr>\n",
              "  </tbody>\n",
              "</table>\n",
              "</div>"
            ],
            "text/plain": [
              "   Quilates  Preco\n",
              "0      0.30   1302\n",
              "1      0.30   1510\n",
              "2      0.30   1510\n",
              "3      0.30   1260\n",
              "4      0.31   1641"
            ]
          },
          "metadata": {
            "tags": []
          },
          "execution_count": 2
        }
      ]
    },
    {
      "cell_type": "code",
      "metadata": {
        "id": "oCqeko8y3PVJ",
        "colab": {
          "base_uri": "https://localhost:8080/"
        },
        "outputId": "e72d13e5-396a-4341-d7a4-668d251ca66c"
      },
      "source": [
        "x = df['Quilates']\n",
        "x = x.values.reshape(-1,1)\n",
        "y = df['Preco']\n",
        "\n",
        "print(f\"Dimensões de x: {x.shape}\")\n",
        "print(f\"Dimensões de y: {y.shape}\")"
      ],
      "execution_count": 3,
      "outputs": [
        {
          "output_type": "stream",
          "text": [
            "Dimensões de x: (39, 1)\n",
            "Dimensões de y: (39,)\n"
          ],
          "name": "stdout"
        }
      ]
    },
    {
      "cell_type": "code",
      "metadata": {
        "id": "mjPHYYL63ZIC",
        "colab": {
          "base_uri": "https://localhost:8080/",
          "height": 295
        },
        "outputId": "a4799171-1891-4740-e62a-6de8d7e6e7a7"
      },
      "source": [
        "plt.scatter(x,y)\n",
        "plt.title(\"Preços dos diamantes de acordo com seu quilate.\")\n",
        "plt.xlabel(\"Quilates\")\n",
        "plt.ylabel(\"Preço\")\n",
        "plt.show()"
      ],
      "execution_count": 4,
      "outputs": [
        {
          "output_type": "display_data",
          "data": {
            "image/png": "[encoded data removed]",
            "text/plain": [
              "<Figure size 432x288 with 1 Axes>"
            ]
          },
          "metadata": {
            "tags": [],
            "needs_background": "light"
          }
        }
      ]
    },
    {
      "cell_type": "markdown",
      "metadata": {
        "id": "qtnSMkjo4GQW"
      },
      "source": [
        "a) Pelo gráfico as variáveis parecem ter uma relação linear positiva"
      ]
    },
    {
      "cell_type": "code",
      "metadata": {
        "id": "7RDn6sM73-hM",
        "colab": {
          "base_uri": "https://localhost:8080/"
        },
        "outputId": "a6d455f7-adf8-4923-88ac-bdd9f3074729"
      },
      "source": [
        "mod = LinearRegression()\n",
        "mod.fit(x,y)\n",
        "\n",
        "print(f'Coeficiente linear: {mod.intercept_}')\n",
        "print(f'Coeficiente angular: {mod.coef_}')"
      ],
      "execution_count": 5,
      "outputs": [
        {
          "output_type": "stream",
          "text": [
            "Coeficiente linear: -1841.1820428336086\n",
            "Coeficiente angular: [9809.21197144]\n"
          ],
          "name": "stdout"
        }
      ]
    },
    {
      "cell_type": "code",
      "metadata": {
        "id": "Ku-h_Gt-5nYN",
        "colab": {
          "base_uri": "https://localhost:8080/"
        },
        "outputId": "b4e8b055-bd29-4a4b-cc2f-18cceece7a22"
      },
      "source": [
        "#b) Cálculo do R² do modelo\n",
        "print(f'R^2 = {mod.score(x,y)}')"
      ],
      "execution_count": 6,
      "outputs": [
        {
          "output_type": "stream",
          "text": [
            "R^2 = 0.8328279302903724\n"
          ],
          "name": "stdout"
        }
      ]
    },
    {
      "cell_type": "code",
      "metadata": {
        "id": "Q72iREbb6LXp",
        "colab": {
          "base_uri": "https://localhost:8080/"
        },
        "outputId": "a4a8e737-045a-469d-db53-d98e53d3629d"
      },
      "source": [
        "#c) Previsão do modelo\n",
        "x_teste = np.array(0.45).reshape(-1,1)      \n",
        "print(f'Preço do diamante de 0.45 quilate = U${mod.predict(x_teste)[0]}') "
      ],
      "execution_count": 9,
      "outputs": [
        {
          "output_type": "stream",
          "text": [
            "Preço do diamante de 0.45 quilate = U$2572.9633443163093\n"
          ],
          "name": "stdout"
        }
      ]
    },
    {
      "cell_type": "markdown",
      "metadata": {
        "id": "AFg5pf147HTm"
      },
      "source": [
        "Preço do diamante de 0.45 quilate é de U$2572.96, acima do valor original"
      ]
    }
  ]
}