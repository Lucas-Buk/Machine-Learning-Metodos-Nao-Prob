{
  "nbformat": 4,
  "nbformat_minor": 0,
  "metadata": {
    "colab": {
      "name": "Aula 3 - Ex1 carros.ipynb",
      "provenance": [],
      "mount_file_id": "1bDnR_UipiGyR3M0rc07HBKGMqsTWCV6F",
      "authorship_tag": "ABX9TyO+JBpVnd22FrLaM3Cwna3t",
      "include_colab_link": true
    },
    "kernelspec": {
      "name": "python3",
      "display_name": "Python 3"
    }
  },
  "cells": [
    {
      "cell_type": "markdown",
      "metadata": {
        "id": "view-in-github",
        "colab_type": "text"
      },
      "source": [
        "<a href=\"https://colab.research.google.com/github/Lucas-Buk/Machine-Learning-Metodos-Nao-Prob/blob/main/Aula_3_Ex1_carros.ipynb\" target=\"_parent\"><img src=\"https://colab.research.google.com/assets/colab-badge.svg\" alt=\"Open In Colab\"/></a>"
      ]
    },
    {
      "cell_type": "markdown",
      "metadata": {
        "id": "92u_Xv3H4Je8"
      },
      "source": [
        "Ex 1"
      ]
    },
    {
      "cell_type": "code",
      "metadata": {
        "id": "-7pCphIA4CH8"
      },
      "source": [
        "import pandas as pd\n",
        "import numpy as np\n",
        "from matplotlib import pyplot as plt\n",
        "from sklearn.linear_model import LinearRegression"
      ],
      "execution_count": null,
      "outputs": []
    },
    {
      "cell_type": "code",
      "metadata": {
        "id": "FKYu5emx4iCh",
        "colab": {
          "base_uri": "https://localhost:8080/",
          "height": 204
        },
        "outputId": "a1fed50e-9246-49e9-c73f-7157224e7047"
      },
      "source": [
        "df = pd.read_csv('/content/drive/My Drive/Colab Notebooks/Pós/ML MNP/Datasets/A2EX3-carsmall-mod.csv')\n",
        "df.head()"
      ],
      "execution_count": null,
      "outputs": [
        {
          "output_type": "execute_result",
          "data": {
            "text/html": [
              "<div>\n",
              "<style scoped>\n",
              "    .dataframe tbody tr th:only-of-type {\n",
              "        vertical-align: middle;\n",
              "    }\n",
              "\n",
              "    .dataframe tbody tr th {\n",
              "        vertical-align: top;\n",
              "    }\n",
              "\n",
              "    .dataframe thead th {\n",
              "        text-align: right;\n",
              "    }\n",
              "</style>\n",
              "<table border=\"1\" class=\"dataframe\">\n",
              "  <thead>\n",
              "    <tr style=\"text-align: right;\">\n",
              "      <th></th>\n",
              "      <th>Acceleration</th>\n",
              "      <th>Cylinders</th>\n",
              "      <th>Displacement</th>\n",
              "      <th>Horsepower</th>\n",
              "      <th>Model</th>\n",
              "      <th>Model_Year</th>\n",
              "      <th>MPG</th>\n",
              "      <th>Origin</th>\n",
              "      <th>Weight</th>\n",
              "      <th>Model_Year_70</th>\n",
              "      <th>Model_Year_76</th>\n",
              "      <th>Model_Year_82</th>\n",
              "    </tr>\n",
              "  </thead>\n",
              "  <tbody>\n",
              "    <tr>\n",
              "      <th>0</th>\n",
              "      <td>12.0</td>\n",
              "      <td>8</td>\n",
              "      <td>307</td>\n",
              "      <td>130</td>\n",
              "      <td>chevrolet chevelle malibu</td>\n",
              "      <td>70</td>\n",
              "      <td>18.0</td>\n",
              "      <td>USA</td>\n",
              "      <td>3504</td>\n",
              "      <td>1</td>\n",
              "      <td>0</td>\n",
              "      <td>0</td>\n",
              "    </tr>\n",
              "    <tr>\n",
              "      <th>1</th>\n",
              "      <td>11.5</td>\n",
              "      <td>8</td>\n",
              "      <td>350</td>\n",
              "      <td>165</td>\n",
              "      <td>buick skylark 320</td>\n",
              "      <td>70</td>\n",
              "      <td>15.0</td>\n",
              "      <td>USA</td>\n",
              "      <td>3693</td>\n",
              "      <td>1</td>\n",
              "      <td>0</td>\n",
              "      <td>0</td>\n",
              "    </tr>\n",
              "    <tr>\n",
              "      <th>2</th>\n",
              "      <td>11.0</td>\n",
              "      <td>8</td>\n",
              "      <td>318</td>\n",
              "      <td>150</td>\n",
              "      <td>plymouth satellite</td>\n",
              "      <td>70</td>\n",
              "      <td>18.0</td>\n",
              "      <td>USA</td>\n",
              "      <td>3436</td>\n",
              "      <td>1</td>\n",
              "      <td>0</td>\n",
              "      <td>0</td>\n",
              "    </tr>\n",
              "    <tr>\n",
              "      <th>3</th>\n",
              "      <td>12.0</td>\n",
              "      <td>8</td>\n",
              "      <td>304</td>\n",
              "      <td>150</td>\n",
              "      <td>amc rebel sst</td>\n",
              "      <td>70</td>\n",
              "      <td>16.0</td>\n",
              "      <td>USA</td>\n",
              "      <td>3433</td>\n",
              "      <td>1</td>\n",
              "      <td>0</td>\n",
              "      <td>0</td>\n",
              "    </tr>\n",
              "    <tr>\n",
              "      <th>4</th>\n",
              "      <td>10.5</td>\n",
              "      <td>8</td>\n",
              "      <td>302</td>\n",
              "      <td>140</td>\n",
              "      <td>ford torino</td>\n",
              "      <td>70</td>\n",
              "      <td>17.0</td>\n",
              "      <td>USA</td>\n",
              "      <td>3449</td>\n",
              "      <td>1</td>\n",
              "      <td>0</td>\n",
              "      <td>0</td>\n",
              "    </tr>\n",
              "  </tbody>\n",
              "</table>\n",
              "</div>"
            ],
            "text/plain": [
              "   Acceleration  Cylinders  ...  Model_Year_76  Model_Year_82\n",
              "0          12.0          8  ...              0              0\n",
              "1          11.5          8  ...              0              0\n",
              "2          11.0          8  ...              0              0\n",
              "3          12.0          8  ...              0              0\n",
              "4          10.5          8  ...              0              0\n",
              "\n",
              "[5 rows x 12 columns]"
            ]
          },
          "metadata": {
            "tags": []
          },
          "execution_count": 2
        }
      ]
    },
    {
      "cell_type": "code",
      "metadata": {
        "id": "e7cmRaKV5bOd",
        "colab": {
          "base_uri": "https://localhost:8080/",
          "height": 85
        },
        "outputId": "bf16f0cc-739f-4a1f-94e8-f5cf251419ec"
      },
      "source": [
        "print(f'Nomas das variáveis: {df.columns}')"
      ],
      "execution_count": null,
      "outputs": [
        {
          "output_type": "stream",
          "text": [
            "Nomas das variáveis: Index(['Acceleration', 'Cylinders', 'Displacement', 'Horsepower', 'Model',\n",
            "       'Model_Year', 'MPG', 'Origin', 'Weight', 'Model_Year_70',\n",
            "       'Model_Year_76', 'Model_Year_82'],\n",
            "      dtype='object')\n"
          ],
          "name": "stdout"
        }
      ]
    },
    {
      "cell_type": "code",
      "metadata": {
        "id": "DGZ5yWsy43e7",
        "colab": {
          "base_uri": "https://localhost:8080/",
          "height": 119
        },
        "outputId": "c960461c-e1e4-4f62-b4ca-4b4ed5053601"
      },
      "source": [
        "# Modelo 1 (Aceleração, Volume, Potência)\n",
        "X1 = df[['Acceleration','Displacement','Horsepower']]\n",
        "y1 = df['MPG']\n",
        "\n",
        "print(f\"Dimensões de X1: {X1.shape}\")\n",
        "print(f\"Dimensões de y1: {y1.shape}\")\n",
        "\n",
        "# Modelo 2 (Aceleração, Volume, Peso)\n",
        "X2 = df[['Acceleration','Displacement','Weight']]\n",
        "y2 = df['MPG']\n",
        "\n",
        "print(f\"Dimensões de X2: {X2.shape}\")\n",
        "print(f\"Dimensões de y2: {y2.shape}\")\n",
        "\n",
        "# Modelo 3 (Volume, Potência, Peso)\n",
        "X3 = df[['Displacement','Horsepower', 'Weight']]\n",
        "y3 = df['MPG']\n",
        "\n",
        "print(f\"Dimensões de X3: {X3.shape}\")\n",
        "print(f\"Dimensões de y3: {y3.shape}\")"
      ],
      "execution_count": null,
      "outputs": [
        {
          "output_type": "stream",
          "text": [
            "Dimensões de X1: (93, 3)\n",
            "Dimensões de y1: (93,)\n",
            "Dimensões de X2: (93, 3)\n",
            "Dimensões de y2: (93,)\n",
            "Dimensões de X3: (93, 3)\n",
            "Dimensões de y3: (93,)\n"
          ],
          "name": "stdout"
        }
      ]
    },
    {
      "cell_type": "code",
      "metadata": {
        "id": "_O2NdIzk8GoZ",
        "colab": {
          "base_uri": "https://localhost:8080/",
          "height": 51
        },
        "outputId": "e204ff66-e314-42d6-8fc4-37eaa66f2714"
      },
      "source": [
        "# Treinamento do Modelo 1\n",
        "modelo1 = LinearRegression()\n",
        "modelo1.fit(X1,y1)\n",
        "\n",
        "print(f'Coeficiente linear: {modelo1.intercept_}')\n",
        "print(f'Coeficientes angulares: {modelo1.coef_}')"
      ],
      "execution_count": null,
      "outputs": [
        {
          "output_type": "stream",
          "text": [
            "Coeficiente linear: 48.5154475729185\n",
            "Coeficientes angulares: [-0.51797101 -0.0359865  -0.08846691]\n"
          ],
          "name": "stdout"
        }
      ]
    },
    {
      "cell_type": "code",
      "metadata": {
        "id": "7vomsFWx8_UW",
        "colab": {
          "base_uri": "https://localhost:8080/",
          "height": 51
        },
        "outputId": "9887826b-3480-4876-a1a5-aa38b4b1e0cf"
      },
      "source": [
        "# Treinamento do Modelo 2\n",
        "modelo2 = LinearRegression()\n",
        "modelo2.fit(X2,y2)\n",
        "\n",
        "print(f'Coeficiente linear: {modelo2.intercept_}')\n",
        "print(f'Coeficientes angulares: {modelo2.coef_}')"
      ],
      "execution_count": null,
      "outputs": [
        {
          "output_type": "stream",
          "text": [
            "Coeficiente linear: 45.96566138850381\n",
            "Coeficientes angulares: [ 0.06153903 -0.01264766 -0.00696286]\n"
          ],
          "name": "stdout"
        }
      ]
    },
    {
      "cell_type": "code",
      "metadata": {
        "id": "Z-GtCWqZ9DqD",
        "colab": {
          "base_uri": "https://localhost:8080/",
          "height": 51
        },
        "outputId": "ebf9e5f4-c49e-4067-92b8-04914a74d287"
      },
      "source": [
        "# Treinamento do Modelo 3\n",
        "modelo3 = LinearRegression()\n",
        "modelo3.fit(X3,y3)\n",
        "\n",
        "print(f'Coeficiente linear: {modelo3.intercept_}')\n",
        "print(f'Coeficientes angulares: {modelo3.coef_}')"
      ],
      "execution_count": null,
      "outputs": [
        {
          "output_type": "stream",
          "text": [
            "Coeficiente linear: 47.182318106603624\n",
            "Coeficientes angulares: [-0.0053631  -0.03456242 -0.00627752]\n"
          ],
          "name": "stdout"
        }
      ]
    },
    {
      "cell_type": "code",
      "metadata": {
        "id": "-9kUJPtP9Xfy",
        "colab": {
          "base_uri": "https://localhost:8080/",
          "height": 51
        },
        "outputId": "44331fc2-0ade-4b27-9857-7bb5e1372b9f"
      },
      "source": [
        "# Coeficiente de determinação do modelo 1\n",
        "R21 = modelo1.score(X1,y1)\n",
        "print(f'R1² = {R21}')\n",
        "\n",
        "n = len(y1)      # Quantidade de dados de treino (=93)\n",
        "k = X1.shape[1]  # Quantidade de variáveis independentes do modelo (=3)\n",
        "R21ajust = 1-((n-1)/(n-k-1))*(1-R21)  # R^2 ajustado\n",
        "print(\"Coeficiente de determinação ajustado do modelo 1 =\", R21ajust)"
      ],
      "execution_count": null,
      "outputs": [
        {
          "output_type": "stream",
          "text": [
            "R1² = 0.6986195843475816\n",
            "Coeficiente de determinação ajustado do modelo 1 = 0.6884606939323316\n"
          ],
          "name": "stdout"
        }
      ]
    },
    {
      "cell_type": "code",
      "metadata": {
        "id": "RaxTgHSu_Kr8",
        "colab": {
          "base_uri": "https://localhost:8080/",
          "height": 51
        },
        "outputId": "7f8c5916-7fc1-4003-c427-357231d8ae17"
      },
      "source": [
        "# Coeficiente de determinação do modelo 2\n",
        "R22 = modelo2.score(X2,y2)\n",
        "print(f'R2² = {R22}')\n",
        "\n",
        "R22ajust = 1-((n-1)/(n-k-1))*(1-R22)  # R^2 ajustado\n",
        "print(\"Coeficiente de determinação ajustado do modelo 2 =\", R22ajust)"
      ],
      "execution_count": null,
      "outputs": [
        {
          "output_type": "stream",
          "text": [
            "R2² = 0.747203836629127\n",
            "Coeficiente de determinação ajustado do modelo 2 = 0.7386826176390976\n"
          ],
          "name": "stdout"
        }
      ]
    },
    {
      "cell_type": "code",
      "metadata": {
        "id": "8XgqQYQx_r4W",
        "colab": {
          "base_uri": "https://localhost:8080/",
          "height": 51
        },
        "outputId": "81e18d74-3268-4d22-aa3b-a6979e05318e"
      },
      "source": [
        "# Coeficiente de determinação do modelo 3\n",
        "R23 = modelo3.score(X3,y3)\n",
        "print(f'R3² = {R23}')\n",
        "\n",
        "R23ajust = 1-((n-1)/(n-k-1))*(1-R23)  # R^2 ajustado\n",
        "print(\"Coeficiente de determinação ajustado do modelo 3 =\", R23ajust)"
      ],
      "execution_count": null,
      "outputs": [
        {
          "output_type": "stream",
          "text": [
            "R3² = 0.7527675885918469\n",
            "Coeficiente de determinação ajustado do modelo 3 = 0.744433911802808\n"
          ],
          "name": "stdout"
        }
      ]
    },
    {
      "cell_type": "code",
      "metadata": {
        "id": "7Vd-VZBoB2e3",
        "colab": {
          "base_uri": "https://localhost:8080/",
          "height": 68
        },
        "outputId": "fea80111-7a91-410f-ae92-81a3df2784be"
      },
      "source": [
        "# Avaliação do RMSE\n",
        "from sklearn.metrics import mean_squared_error\n",
        "\n",
        "y1_prev = modelo1.predict(X1)\n",
        "print('RMSE modelo 1:', mean_squared_error(y1,y1_prev, squared = False))\n",
        "\n",
        "y2_prev = modelo2.predict(X2)\n",
        "print('RMSE modelo 2:', mean_squared_error(y2,y2_prev, squared = False))\n",
        "\n",
        "y3_prev = modelo3.predict(X3)\n",
        "print('RMSE modelo 3:', mean_squared_error(y3,y3_prev, squared = False))"
      ],
      "execution_count": null,
      "outputs": [
        {
          "output_type": "stream",
          "text": [
            "RMSE modelo 1: 4.411271585840515\n",
            "RMSE modelo 2: 4.040094485055009\n",
            "RMSE modelo 3: 3.995388223446182\n"
          ],
          "name": "stdout"
        }
      ]
    },
    {
      "cell_type": "code",
      "metadata": {
        "id": "W2P_8RYbI4IQ",
        "colab": {
          "base_uri": "https://localhost:8080/",
          "height": 68
        },
        "outputId": "6e2ad122-f098-44bf-d781-42660047de02"
      },
      "source": [
        "# Bônus\n",
        "# Validação cruzada k-folds no modelo 3\n",
        "from sklearn.model_selection import cross_val_score\n",
        " \n",
        "aval = cross_val_score(modelo3,X3,y3,cv = 10,scoring = 'neg_root_mean_squared_error')\n",
        "print('Valores do RMSE',-aval)\n",
        "m = np.mean(-aval)\n",
        "dp = np.std(-aval, ddof=1)\n",
        "CV = 100*dp/m\n",
        "print(f'Variação percentual do RMSE = {CV:.2f}%')"
      ],
      "execution_count": null,
      "outputs": [
        {
          "output_type": "stream",
          "text": [
            "Valores do RMSE [4.00425291 6.03294437 2.97926777 3.03449368 3.17253886 3.26311272\n",
            " 3.67012069 4.41408645 7.12411281 6.08578866]\n",
            "Variação percentual do RMSE = 34.30%\n"
          ],
          "name": "stdout"
        }
      ]
    }
  ]
}