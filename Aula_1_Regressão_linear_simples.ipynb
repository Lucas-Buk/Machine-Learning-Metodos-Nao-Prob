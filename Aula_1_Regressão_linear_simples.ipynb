{
  "nbformat": 4,
  "nbformat_minor": 0,
  "metadata": {
    "colab": {
      "name": "Aula 1 - Regressão linear simples.ipynb",
      "provenance": [],
      "collapsed_sections": [],
      "include_colab_link": true
    },
    "kernelspec": {
      "name": "python3",
      "display_name": "Python 3"
    }
  },
  "cells": [
    {
      "cell_type": "markdown",
      "metadata": {
        "id": "view-in-github",
        "colab_type": "text"
      },
      "source": [
        "<a href=\"https://colab.research.google.com/github/Lucas-Buk/Machine-Learning-Metodos-Nao-Prob/blob/main/Aula_1_Regress%C3%A3o_linear_simples.ipynb\" target=\"_parent\"><img src=\"https://colab.research.google.com/assets/colab-badge.svg\" alt=\"Open In Colab\"/></a>"
      ]
    },
    {
      "cell_type": "markdown",
      "metadata": {
        "id": "8S9ZsZ37sWUq"
      },
      "source": [
        "# **Machine Learning - Métodos Não Probabilísticos**\n",
        "## **Aula 1 - exemplo 1**: regressão linear simples"
      ]
    },
    {
      "cell_type": "code",
      "metadata": {
        "id": "5ubUrqJ-GZ90",
        "colab": {
          "base_uri": "https://localhost:8080/",
          "height": 295
        },
        "outputId": "6bac6766-feed-4e86-e462-dec4277ec958"
      },
      "source": [
        "# Importação das bibliotecas e métodos necessários\n",
        "import numpy as np\n",
        "from matplotlib import pyplot as plt\n",
        "from sklearn.linear_model import LinearRegression\n",
        "\n",
        "# Conjunto de dados 1 (20 pares de valores): supõe-se que y = f(x)\n",
        "x = [15.5, 23.75, 8, 17, 5, 19, 24, 2.5, 7.5, 11, 13, 3.75, 25, 9.75, 22, 18, 6, 12.5, 2, 21.5]\n",
        "y = [2158.7, 1678.15, 2316, 2061.3, 2207.5, 1708.3, 1784.7, 2575, 2357.9, 2277.7, 2165.2, 2399.55, 1779.8, 2336.75, 1765.3, 2053.5, 2414.4, 2200.5, 2654.2, 1753.7]\n",
        "\n",
        "# Avaliação gráfica\n",
        "# Diagrama de dispersão (scatter plot) do conjunto de dados 1\n",
        "plt.scatter(x,y)\n",
        "plt.title(\"Diagrama de dispersão: y = f(x)\")\n",
        "plt.xlabel(\"Variável x\")\n",
        "plt.ylabel(\"Variável y\")\n",
        "plt.show()"
      ],
      "execution_count": 1,
      "outputs": [
        {
          "output_type": "display_data",
          "data": {
            "image/png": "[encoded data removed]",
            "text/plain": [
              "<Figure size 432x288 with 1 Axes>"
            ]
          },
          "metadata": {
            "tags": [],
            "needs_background": "light"
          }
        }
      ]
    },
    {
      "cell_type": "code",
      "metadata": {
        "id": "7yyd_t3lbo3s",
        "colab": {
          "base_uri": "https://localhost:8080/"
        },
        "outputId": "c62a2e16-b562-4e35-b313-48790dfd7101"
      },
      "source": [
        "# Análise da correlação linear entre os dados do conjunto 1\n",
        "# Critério: |r| entre 0 e 0,4: fraca\n",
        "#           |r| acima de 0,4 e abaixo de 0,7: moderada\n",
        "#           |r| maior ou igual a 0,7: forte\n",
        "\n",
        "coef_corr = np.corrcoef(x,y)\n",
        "print(\"Matriz de correlações:\")\n",
        "print(coef_corr)"
      ],
      "execution_count": 2,
      "outputs": [
        {
          "output_type": "stream",
          "text": [
            "Matriz de correlações:\n",
            "[[ 1.         -0.94661564]\n",
            " [-0.94661564  1.        ]]\n"
          ],
          "name": "stdout"
        }
      ]
    },
    {
      "cell_type": "code",
      "metadata": {
        "id": "CiIqb4hXces6",
        "colab": {
          "base_uri": "https://localhost:8080/"
        },
        "outputId": "bf697e0d-d195-49ae-accc-250b746e9b48"
      },
      "source": [
        "# Criação do modelo 1\n",
        "# Regressão linear simples da forma y^ = f(x) = theta_0 + theta_1*x\n",
        "# Preparação dos dados\n",
        "x = np.array(x)       # Transforma a lista de valores \"x\" em um array\n",
        "x = x.reshape(-1,1)   # Redimensiona o array para \"n\" linhas (automático), 1 coluna\n",
        "y = np.array(y)       # Transforma a lista de valores \"y\" em um array com 1 coluna\n",
        "\n",
        "# \"Checagem\" das dimensões dos arrays\n",
        "print(\"Dimensões de x:\",x.shape)  # Dimensões corretas: (n_pontos,n_variáveis)\n",
        "print(\"Dimensões de y:\",y.shape)  # Dimensões corretas: (n_pontos,)"
      ],
      "execution_count": 3,
      "outputs": [
        {
          "output_type": "stream",
          "text": [
            "Dimensões de x: (20, 1)\n",
            "Dimensões de y: (20,)\n"
          ],
          "name": "stdout"
        }
      ]
    },
    {
      "cell_type": "code",
      "metadata": {
        "id": "mVLyBrR6jLQ2",
        "colab": {
          "base_uri": "https://localhost:8080/"
        },
        "outputId": "b4e6903a-cdb5-4490-e94e-453ace5b1476"
      },
      "source": [
        "# Treinamento do modelo\n",
        "modelo1 = LinearRegression()  # Cria instância de objeto \"modelo de regressão linear\"\n",
        "modelo1.fit(x,y)              # Treina o modelo com os dados disponíveis\n",
        "\n",
        "# Exibição dos parâmetros do modelo 1\n",
        "print(modelo1.intercept_)   # Coeficiente linear (theta_0)\n",
        "print(modelo1.coef_)        # Coeficiente angular (theta_1)"
      ],
      "execution_count": 4,
      "outputs": [
        {
          "output_type": "stream",
          "text": [
            "2625.3854624871387\n",
            "[-36.96179663]\n"
          ],
          "name": "stdout"
        }
      ]
    },
    {
      "cell_type": "code",
      "metadata": {
        "id": "RyesVO5tljqn",
        "colab": {
          "base_uri": "https://localhost:8080/",
          "height": 295
        },
        "outputId": "9d6ac097-e433-4e72-e7f2-6a087018d38e"
      },
      "source": [
        "# Representação gráfica do modelo 1\n",
        "plt.scatter(x,y)  # Recria o diagrama de dispersão\n",
        "plt.xlabel(\"Variável x\")\n",
        "plt.ylabel(\"Variável y\")\n",
        "\n",
        "y_prev = modelo1.predict(x)       # Calcula os valores de y^ (previsões do modelo)\n",
        "\n",
        "plt.title(\"Regressão linear simples: y^ = f(x)\")\n",
        "plt.plot(x,y_prev,color = 'red')  # Traça a curva do modelo\n",
        "plt.show()"
      ],
      "execution_count": 5,
      "outputs": [
        {
          "output_type": "display_data",
          "data": {
            "image/png": "[encoded data removed]",
            "text/plain": [
              "<Figure size 432x288 with 1 Axes>"
            ]
          },
          "metadata": {
            "tags": [],
            "needs_background": "light"
          }
        }
      ]
    },
    {
      "cell_type": "code",
      "metadata": {
        "id": "YQleZOQ_qCma",
        "colab": {
          "base_uri": "https://localhost:8080/"
        },
        "outputId": "f63e607f-2e6d-47bc-a072-7db1fc464ea2"
      },
      "source": [
        "# Exemplo de uma previsão pontual: x = 14\n",
        "x_teste = np.array([[14]])        # Array de teste: 1 linha, 1 coluna\n",
        "print(modelo1.predict(x_teste))   # Calcula e exibe y^(14)"
      ],
      "execution_count": 6,
      "outputs": [
        {
          "output_type": "stream",
          "text": [
            "[2107.92030974]\n"
          ],
          "name": "stdout"
        }
      ]
    },
    {
      "cell_type": "code",
      "metadata": {
        "id": "NYUrxbYSoNPI",
        "colab": {
          "base_uri": "https://localhost:8080/"
        },
        "outputId": "6221210c-48ce-4ac4-f1a6-5969a84661b3"
      },
      "source": [
        "# Avaliação da qualidade de ajuste do modelo 1 (R^2)\n",
        "print(modelo1.score(x,y))"
      ],
      "execution_count": 7,
      "outputs": [
        {
          "output_type": "stream",
          "text": [
            "0.8960811774899401\n"
          ],
          "name": "stdout"
        }
      ]
    }
  ]
}