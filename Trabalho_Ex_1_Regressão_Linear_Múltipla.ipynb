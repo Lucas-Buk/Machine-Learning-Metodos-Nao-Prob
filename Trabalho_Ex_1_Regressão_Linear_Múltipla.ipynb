{
  "nbformat": 4,
  "nbformat_minor": 0,
  "metadata": {
    "colab": {
      "name": "Trabalho - Ex 1 Regressão Linear Múltipla.ipynb",
      "provenance": [],
      "collapsed_sections": [],
      "mount_file_id": "1tAauipOI9n--IvK59ouA5Rq4KFvbdho6",
      "authorship_tag": "ABX9TyOAOVGr9rRY//fEijz1JS5Y",
      "include_colab_link": true
    },
    "kernelspec": {
      "name": "python3",
      "display_name": "Python 3"
    }
  },
  "cells": [
    {
      "cell_type": "markdown",
      "metadata": {
        "id": "view-in-github",
        "colab_type": "text"
      },
      "source": [
        "<a href=\"https://colab.research.google.com/github/Lucas-Buk/Machine-Learning-Metodos-Nao-Prob/blob/main/Trabalho_Ex_1_Regress%C3%A3o_Linear_M%C3%BAltipla.ipynb\" target=\"_parent\"><img src=\"https://colab.research.google.com/assets/colab-badge.svg\" alt=\"Open In Colab\"/></a>"
      ]
    },
    {
      "cell_type": "markdown",
      "metadata": {
        "id": "hsDvZrMQLaRP"
      },
      "source": [
        "#Exercício 1 - Regressão Linear Múltipla"
      ]
    },
    {
      "cell_type": "markdown",
      "metadata": {
        "id": "CXqVhm2uKpHk"
      },
      "source": [
        "Variáveis: \n",
        "* mpg (contínua): consumo (em milhas por galão) em ciclo urbano.\n",
        "* cylinders (discreta): número de cilindros do motor (de 4 a 8).\n",
        "* displacement (contínua): capacidade volumétrica do motor, em polegadas³.\n",
        "* horsepower (contínua): potência do motor, em HP.\n",
        "* weight (contínua): peso do veículo, em libras.\n",
        "* acceleration (contínua): tempo (em s) gasto na aceleração de 0 a 60 mph.\n",
        "* model year (discreta): ano inicial de fabricação (módulo 100).\n",
        "* origin (discreta): origem do veículo.\n",
        "* car name (discreta): identificação (única) do automóvel.\n",
        "\n",
        "Faça todo pré-processamento que julgar necessário e crie um modelo de regressão linear múltipla que relacione o consumo dos veículos com as demais informações. Parte das variáveis independentes pode ser descartada, exceto a região de fabricação, que precisa fazer parte da análise. Avalie a qualidade de ajuste do modelo e sua capacidade de generalização. Documente o seu fluxo de trabalho, decisões e conclusões."
      ]
    },
    {
      "cell_type": "code",
      "metadata": {
        "id": "3tf8w8e1JnCY"
      },
      "source": [
        "# Importação das bibliotecas\n",
        "import pandas as pd\n",
        "import numpy as np\n",
        "from matplotlib import pyplot as plt\n",
        "from sklearn.linear_model import LinearRegression\n",
        "from sklearn.metrics import mean_squared_error\n",
        "\n",
        "from sklearn.model_selection import train_test_split\n",
        "from sklearn.model_selection import cross_val_score"
      ],
      "execution_count": 1,
      "outputs": []
    },
    {
      "cell_type": "code",
      "metadata": {
        "id": "fG8PAUXNMPdY",
        "colab": {
          "base_uri": "https://localhost:8080/",
          "height": 221
        },
        "outputId": "3a05cc8c-5a38-4c5d-d887-618252445a73"
      },
      "source": [
        "# Leitura dos dados externos\n",
        "df = pd.read_csv(\"/content/drive/My Drive/Colab Notebooks/Pós/ML MNP/Datasets/auto-mpg.csv\")\n",
        "print(df.shape)\n",
        "df.head()"
      ],
      "execution_count": 2,
      "outputs": [
        {
          "output_type": "stream",
          "text": [
            "(398, 9)\n"
          ],
          "name": "stdout"
        },
        {
          "output_type": "execute_result",
          "data": {
            "text/html": [
              "<div>\n",
              "<style scoped>\n",
              "    .dataframe tbody tr th:only-of-type {\n",
              "        vertical-align: middle;\n",
              "    }\n",
              "\n",
              "    .dataframe tbody tr th {\n",
              "        vertical-align: top;\n",
              "    }\n",
              "\n",
              "    .dataframe thead th {\n",
              "        text-align: right;\n",
              "    }\n",
              "</style>\n",
              "<table border=\"1\" class=\"dataframe\">\n",
              "  <thead>\n",
              "    <tr style=\"text-align: right;\">\n",
              "      <th></th>\n",
              "      <th>mpg</th>\n",
              "      <th>cylinders</th>\n",
              "      <th>displacement</th>\n",
              "      <th>horsepower</th>\n",
              "      <th>weight</th>\n",
              "      <th>acceleration</th>\n",
              "      <th>model year</th>\n",
              "      <th>origin</th>\n",
              "      <th>car name</th>\n",
              "    </tr>\n",
              "  </thead>\n",
              "  <tbody>\n",
              "    <tr>\n",
              "      <th>0</th>\n",
              "      <td>18.0</td>\n",
              "      <td>8</td>\n",
              "      <td>307.0</td>\n",
              "      <td>130.0</td>\n",
              "      <td>3504</td>\n",
              "      <td>12.0</td>\n",
              "      <td>70</td>\n",
              "      <td>1</td>\n",
              "      <td>chevrolet chevelle malibu</td>\n",
              "    </tr>\n",
              "    <tr>\n",
              "      <th>1</th>\n",
              "      <td>15.0</td>\n",
              "      <td>8</td>\n",
              "      <td>350.0</td>\n",
              "      <td>165.0</td>\n",
              "      <td>3693</td>\n",
              "      <td>11.5</td>\n",
              "      <td>70</td>\n",
              "      <td>1</td>\n",
              "      <td>buick skylark 320</td>\n",
              "    </tr>\n",
              "    <tr>\n",
              "      <th>2</th>\n",
              "      <td>18.0</td>\n",
              "      <td>8</td>\n",
              "      <td>318.0</td>\n",
              "      <td>150.0</td>\n",
              "      <td>3436</td>\n",
              "      <td>11.0</td>\n",
              "      <td>70</td>\n",
              "      <td>1</td>\n",
              "      <td>plymouth satellite</td>\n",
              "    </tr>\n",
              "    <tr>\n",
              "      <th>3</th>\n",
              "      <td>16.0</td>\n",
              "      <td>8</td>\n",
              "      <td>304.0</td>\n",
              "      <td>150.0</td>\n",
              "      <td>3433</td>\n",
              "      <td>12.0</td>\n",
              "      <td>70</td>\n",
              "      <td>1</td>\n",
              "      <td>amc rebel sst</td>\n",
              "    </tr>\n",
              "    <tr>\n",
              "      <th>4</th>\n",
              "      <td>17.0</td>\n",
              "      <td>8</td>\n",
              "      <td>302.0</td>\n",
              "      <td>140.0</td>\n",
              "      <td>3449</td>\n",
              "      <td>10.5</td>\n",
              "      <td>70</td>\n",
              "      <td>1</td>\n",
              "      <td>ford torino</td>\n",
              "    </tr>\n",
              "  </tbody>\n",
              "</table>\n",
              "</div>"
            ],
            "text/plain": [
              "    mpg  cylinders  displacement  ...  model year  origin                   car name\n",
              "0  18.0          8         307.0  ...          70       1  chevrolet chevelle malibu\n",
              "1  15.0          8         350.0  ...          70       1          buick skylark 320\n",
              "2  18.0          8         318.0  ...          70       1         plymouth satellite\n",
              "3  16.0          8         304.0  ...          70       1              amc rebel sst\n",
              "4  17.0          8         302.0  ...          70       1                ford torino\n",
              "\n",
              "[5 rows x 9 columns]"
            ]
          },
          "metadata": {
            "tags": []
          },
          "execution_count": 2
        }
      ]
    },
    {
      "cell_type": "code",
      "metadata": {
        "id": "oXZrnWGiXh7J",
        "colab": {
          "base_uri": "https://localhost:8080/"
        },
        "outputId": "78192c8e-3a27-46ee-857b-0df6faeda36a"
      },
      "source": [
        "# Verificação do DataFrame\n",
        "dados_faltantes = df.isnull().sum()\n",
        "dados_faltantes"
      ],
      "execution_count": 3,
      "outputs": [
        {
          "output_type": "execute_result",
          "data": {
            "text/plain": [
              "mpg             0\n",
              "cylinders       0\n",
              "displacement    0\n",
              "horsepower      6\n",
              "weight          0\n",
              "acceleration    0\n",
              "model year      0\n",
              "origin          0\n",
              "car name        0\n",
              "dtype: int64"
            ]
          },
          "metadata": {
            "tags": []
          },
          "execution_count": 3
        }
      ]
    },
    {
      "cell_type": "markdown",
      "metadata": {
        "id": "nWVrKX1Sax-E"
      },
      "source": [
        "A coluna da Potência dos veículos possui 6 dados faltantes e é a única com esse problema. \n",
        "A decisão será de excluir os dados dessas 6 linhas e realizar o estudo, tendo em vista que temos 398 linhas, pois as 6 eliminadas não serão um número muito significativo comparado ao total."
      ]
    },
    {
      "cell_type": "code",
      "metadata": {
        "id": "FQAtWqxlb2Nu",
        "colab": {
          "base_uri": "https://localhost:8080/",
          "height": 204
        },
        "outputId": "5bb95d67-af8f-44e9-b09a-06d42368221b"
      },
      "source": [
        "# Eliminação das linhas sem dados\n",
        "df = df.dropna()\n",
        "df.head()"
      ],
      "execution_count": 4,
      "outputs": [
        {
          "output_type": "execute_result",
          "data": {
            "text/html": [
              "<div>\n",
              "<style scoped>\n",
              "    .dataframe tbody tr th:only-of-type {\n",
              "        vertical-align: middle;\n",
              "    }\n",
              "\n",
              "    .dataframe tbody tr th {\n",
              "        vertical-align: top;\n",
              "    }\n",
              "\n",
              "    .dataframe thead th {\n",
              "        text-align: right;\n",
              "    }\n",
              "</style>\n",
              "<table border=\"1\" class=\"dataframe\">\n",
              "  <thead>\n",
              "    <tr style=\"text-align: right;\">\n",
              "      <th></th>\n",
              "      <th>mpg</th>\n",
              "      <th>cylinders</th>\n",
              "      <th>displacement</th>\n",
              "      <th>horsepower</th>\n",
              "      <th>weight</th>\n",
              "      <th>acceleration</th>\n",
              "      <th>model year</th>\n",
              "      <th>origin</th>\n",
              "      <th>car name</th>\n",
              "    </tr>\n",
              "  </thead>\n",
              "  <tbody>\n",
              "    <tr>\n",
              "      <th>0</th>\n",
              "      <td>18.0</td>\n",
              "      <td>8</td>\n",
              "      <td>307.0</td>\n",
              "      <td>130.0</td>\n",
              "      <td>3504</td>\n",
              "      <td>12.0</td>\n",
              "      <td>70</td>\n",
              "      <td>1</td>\n",
              "      <td>chevrolet chevelle malibu</td>\n",
              "    </tr>\n",
              "    <tr>\n",
              "      <th>1</th>\n",
              "      <td>15.0</td>\n",
              "      <td>8</td>\n",
              "      <td>350.0</td>\n",
              "      <td>165.0</td>\n",
              "      <td>3693</td>\n",
              "      <td>11.5</td>\n",
              "      <td>70</td>\n",
              "      <td>1</td>\n",
              "      <td>buick skylark 320</td>\n",
              "    </tr>\n",
              "    <tr>\n",
              "      <th>2</th>\n",
              "      <td>18.0</td>\n",
              "      <td>8</td>\n",
              "      <td>318.0</td>\n",
              "      <td>150.0</td>\n",
              "      <td>3436</td>\n",
              "      <td>11.0</td>\n",
              "      <td>70</td>\n",
              "      <td>1</td>\n",
              "      <td>plymouth satellite</td>\n",
              "    </tr>\n",
              "    <tr>\n",
              "      <th>3</th>\n",
              "      <td>16.0</td>\n",
              "      <td>8</td>\n",
              "      <td>304.0</td>\n",
              "      <td>150.0</td>\n",
              "      <td>3433</td>\n",
              "      <td>12.0</td>\n",
              "      <td>70</td>\n",
              "      <td>1</td>\n",
              "      <td>amc rebel sst</td>\n",
              "    </tr>\n",
              "    <tr>\n",
              "      <th>4</th>\n",
              "      <td>17.0</td>\n",
              "      <td>8</td>\n",
              "      <td>302.0</td>\n",
              "      <td>140.0</td>\n",
              "      <td>3449</td>\n",
              "      <td>10.5</td>\n",
              "      <td>70</td>\n",
              "      <td>1</td>\n",
              "      <td>ford torino</td>\n",
              "    </tr>\n",
              "  </tbody>\n",
              "</table>\n",
              "</div>"
            ],
            "text/plain": [
              "    mpg  cylinders  displacement  ...  model year  origin                   car name\n",
              "0  18.0          8         307.0  ...          70       1  chevrolet chevelle malibu\n",
              "1  15.0          8         350.0  ...          70       1          buick skylark 320\n",
              "2  18.0          8         318.0  ...          70       1         plymouth satellite\n",
              "3  16.0          8         304.0  ...          70       1              amc rebel sst\n",
              "4  17.0          8         302.0  ...          70       1                ford torino\n",
              "\n",
              "[5 rows x 9 columns]"
            ]
          },
          "metadata": {
            "tags": []
          },
          "execution_count": 4
        }
      ]
    },
    {
      "cell_type": "code",
      "metadata": {
        "id": "Rr5QxzZWOUKA"
      },
      "source": [
        "# Variável dependente\n",
        "y = df.mpg"
      ],
      "execution_count": 5,
      "outputs": []
    },
    {
      "cell_type": "code",
      "metadata": {
        "id": "A7rMX6GgNvdW",
        "colab": {
          "base_uri": "https://localhost:8080/",
          "height": 346
        },
        "outputId": "b6dba91d-81d3-43fe-bc8b-f548f774e912"
      },
      "source": [
        "# Diagrama de dispersão entre MPG (y) e Displacement \n",
        "plt.scatter(df.displacement,y,color = 'blue')\n",
        "plt.title(\"MPG por Displacement\")\n",
        "plt.xlabel(\"Displacement\")\n",
        "plt.ylabel(\"MPG\")\n",
        "plt.show()\n",
        "\n",
        "# Correlação entre MPG (y) e Displacement\n",
        "coef_corr = np.corrcoef(df.displacement,y)\n",
        "print(\"Matriz de correlações entre MPG (y) e Displacement:\")\n",
        "print(coef_corr)"
      ],
      "execution_count": 6,
      "outputs": [
        {
          "output_type": "display_data",
          "data": {
            "image/png": "[encoded data removed]",
            "text/plain": [
              "<Figure size 432x288 with 1 Axes>"
            ]
          },
          "metadata": {
            "tags": [],
            "needs_background": "light"
          }
        },
        {
          "output_type": "stream",
          "text": [
            "Matriz de correlações entre MPG (y) e Displacement:\n",
            "[[ 1.         -0.80512695]\n",
            " [-0.80512695  1.        ]]\n"
          ],
          "name": "stdout"
        }
      ]
    },
    {
      "cell_type": "markdown",
      "metadata": {
        "id": "BIr_heDfPDKB"
      },
      "source": [
        "Pelo gráfico e pela matriz de correlações percebe-se que o volume do motor apresenta correlação com o consumo em MPG, sendo assim, considerado nos dois modelos que serão estudados de Regressão Linear Múltipla."
      ]
    },
    {
      "cell_type": "code",
      "metadata": {
        "id": "T2XllQOQPULv",
        "colab": {
          "base_uri": "https://localhost:8080/",
          "height": 346
        },
        "outputId": "534aa08f-93f3-4a96-f902-06d5f820ec12"
      },
      "source": [
        "# Diagrama de dispersão entre MPG (y) e Horsepower \n",
        "plt.scatter(df.horsepower,y,color = 'red')\n",
        "plt.title(\"MPG por Horsepower\")\n",
        "plt.xlabel(\"Horsepower\")\n",
        "plt.ylabel(\"MPG\")\n",
        "plt.show()\n",
        "\n",
        "# Correlação entre MPG (y) e Horsepower \n",
        "coef_corr = np.corrcoef(df.horsepower,y)\n",
        "print(\"Matriz de correlações entre MPG (y) e Horsepower:\")\n",
        "print(coef_corr)"
      ],
      "execution_count": 7,
      "outputs": [
        {
          "output_type": "display_data",
          "data": {
            "image/png": "[encoded data removed]",
            "text/plain": [
              "<Figure size 432x288 with 1 Axes>"
            ]
          },
          "metadata": {
            "tags": [],
            "needs_background": "light"
          }
        },
        {
          "output_type": "stream",
          "text": [
            "Matriz de correlações entre MPG (y) e Horsepower:\n",
            "[[ 1.         -0.77842678]\n",
            " [-0.77842678  1.        ]]\n"
          ],
          "name": "stdout"
        }
      ]
    },
    {
      "cell_type": "markdown",
      "metadata": {
        "id": "SfUPuZqOPjeT"
      },
      "source": [
        "Pelo gráfico e pela matriz de correlações percebe-se que a potência do motor apresenta correlação com o consumo em MPG, assim será considerada nos dois modelos estudados de Regressão Linear Múltipla."
      ]
    },
    {
      "cell_type": "code",
      "metadata": {
        "id": "OqJGOO-tPwys",
        "colab": {
          "base_uri": "https://localhost:8080/",
          "height": 346
        },
        "outputId": "3d93698d-8e26-4f32-c771-7e6532899b2d"
      },
      "source": [
        "# Diagrama de dispersão entre MPG (y) e Weight\t \n",
        "plt.scatter(df.weight,y,color = 'green')\n",
        "plt.title(\"MPG por Weight\")\n",
        "plt.xlabel(\"Weight\")\n",
        "plt.ylabel(\"MPG\")\n",
        "plt.show()\n",
        "\n",
        "# Correlação entre MPG (y) e Weight \n",
        "coef_corr = np.corrcoef(df.weight,y)\n",
        "print(\"Matriz de correlações entre MPG (y) e Weight:\")\n",
        "print(coef_corr)"
      ],
      "execution_count": 8,
      "outputs": [
        {
          "output_type": "display_data",
          "data": {
            "image/png": "[encoded data removed]",
            "text/plain": [
              "<Figure size 432x288 with 1 Axes>"
            ]
          },
          "metadata": {
            "tags": [],
            "needs_background": "light"
          }
        },
        {
          "output_type": "stream",
          "text": [
            "Matriz de correlações entre MPG (y) e Weight:\n",
            "[[ 1.         -0.83224421]\n",
            " [-0.83224421  1.        ]]\n"
          ],
          "name": "stdout"
        }
      ]
    },
    {
      "cell_type": "markdown",
      "metadata": {
        "id": "OyLI0n9APx19"
      },
      "source": [
        "Pelo gráfico e pela matriz de correlações percebe-se que o peso também apresenta correlação com o consumo em MPG. Será considerado em ambos os modelos de Regressão Linear Múltipla."
      ]
    },
    {
      "cell_type": "code",
      "metadata": {
        "id": "N9g_5d_sPx1n",
        "colab": {
          "base_uri": "https://localhost:8080/",
          "height": 346
        },
        "outputId": "4a545383-f66b-464b-c633-562f99b0bed5"
      },
      "source": [
        "# Diagrama de dispersão entre MPG (y) e Acceleration \n",
        "plt.scatter(df.acceleration,y,color = 'purple')\n",
        "plt.title(\"MPG por Acceleration\")\n",
        "plt.xlabel(\"Acceleration\")\n",
        "plt.ylabel(\"MPG\")\n",
        "plt.show()\n",
        "\n",
        "# Correlação entre MPG (y) e Acceleration \n",
        "coef_corr = np.corrcoef(df.acceleration,y)\n",
        "print(\"Matriz de correlações entre MPG (y) e Acceleration:\")\n",
        "print(coef_corr)"
      ],
      "execution_count": 9,
      "outputs": [
        {
          "output_type": "display_data",
          "data": {
            "image/png": "[encoded data removed]",
            "text/plain": [
              "<Figure size 432x288 with 1 Axes>"
            ]
          },
          "metadata": {
            "tags": [],
            "needs_background": "light"
          }
        },
        {
          "output_type": "stream",
          "text": [
            "Matriz de correlações entre MPG (y) e Acceleration:\n",
            "[[1.         0.42332854]\n",
            " [0.42332854 1.        ]]\n"
          ],
          "name": "stdout"
        }
      ]
    },
    {
      "cell_type": "markdown",
      "metadata": {
        "id": "d_sdkhvJQ4ZW"
      },
      "source": [
        "Pelo gráfico e pela matriz de correlações percebe-se que a aceleração apresenta correlação moderada com o consumo em MPG, por isso será considerada somente em um dos modelos de Regressão Linear Múltipla."
      ]
    },
    {
      "cell_type": "code",
      "metadata": {
        "id": "5iB9YAvfRAah",
        "colab": {
          "base_uri": "https://localhost:8080/",
          "height": 295
        },
        "outputId": "9de6ff8a-0a44-46ec-9ad0-6c17810c8f68"
      },
      "source": [
        "# Diagrama de dispersão entre MPG (y) e Cylinders\n",
        "plt.scatter(df.cylinders,y,color = 'yellow')\n",
        "plt.title(\"MPG por Cylinders\")\n",
        "plt.xlabel(\"Cylinders\")\n",
        "plt.ylabel(\"MPG\")\n",
        "plt.show()"
      ],
      "execution_count": 10,
      "outputs": [
        {
          "output_type": "display_data",
          "data": {
            "image/png": "[encoded data removed]",
            "text/plain": [
              "<Figure size 432x288 with 1 Axes>"
            ]
          },
          "metadata": {
            "tags": [],
            "needs_background": "light"
          }
        }
      ]
    },
    {
      "cell_type": "markdown",
      "metadata": {
        "id": "s_NugvOxSzp9"
      },
      "source": [
        "Pelo gráfico não percebe-se correlação entre o número de cilindros com o consumo em MPG, ambos os modelo terão esta variável."
      ]
    },
    {
      "cell_type": "code",
      "metadata": {
        "id": "PINtVdkxS3zl",
        "colab": {
          "base_uri": "https://localhost:8080/",
          "height": 295
        },
        "outputId": "1e047e96-c324-480b-9807-35b9e9c74b6d"
      },
      "source": [
        "# Diagrama de dispersão entre MPG (y) e Model year\n",
        "plt.scatter(df['model year'],y,color = 'gray')\n",
        "plt.title(\"MPG por Model year\")\n",
        "plt.xlabel(\"Model year\")\n",
        "plt.ylabel(\"MPG\")\n",
        "plt.show()"
      ],
      "execution_count": 11,
      "outputs": [
        {
          "output_type": "display_data",
          "data": {
            "image/png": "[encoded data removed]",
            "text/plain": [
              "<Figure size 432x288 with 1 Axes>"
            ]
          },
          "metadata": {
            "tags": [],
            "needs_background": "light"
          }
        }
      ]
    },
    {
      "cell_type": "markdown",
      "metadata": {
        "id": "BcWvObGHS3zs"
      },
      "source": [
        "Pelo gráfico percebe-se que o ano do modelo do carro apresenta correlação com o consumo em MPG, por isso esta variável será considerada em ambos os modelos de Regressão Linear Múltipla."
      ]
    },
    {
      "cell_type": "code",
      "metadata": {
        "id": "rnaxxo9fUXZq",
        "colab": {
          "base_uri": "https://localhost:8080/",
          "height": 295
        },
        "outputId": "47cfc2f2-f681-41f6-cd42-1d884fc0d013"
      },
      "source": [
        "# Diagrama de dispersão entre MPG (y) e Origin\n",
        "plt.scatter(df.origin,y,color = 'lightgreen')\n",
        "plt.title(\"MPG por Origin\")\n",
        "plt.xlabel(\"Origin\")\n",
        "plt.ylabel(\"MPG\")\n",
        "plt.show()"
      ],
      "execution_count": 12,
      "outputs": [
        {
          "output_type": "display_data",
          "data": {
            "image/png": "[encoded data removed]",
            "text/plain": [
              "<Figure size 432x288 with 1 Axes>"
            ]
          },
          "metadata": {
            "tags": [],
            "needs_background": "light"
          }
        }
      ]
    },
    {
      "cell_type": "markdown",
      "metadata": {
        "id": "XybPzXlDUXZ1"
      },
      "source": [
        "A variável origem foi pedida para entrar no modelo de Regressão Linear Múltipla, mesmo assim é possível perceber alguma relação entre a origem e o consumo do carro."
      ]
    },
    {
      "cell_type": "code",
      "metadata": {
        "id": "kl46QR5jF2bo",
        "colab": {
          "base_uri": "https://localhost:8080/",
          "height": 204
        },
        "outputId": "f6eaabbc-596e-49f3-c56b-3249d3eb28b3"
      },
      "source": [
        "# Codificação one-hot na variável ORIGIN, criando três novas colunas no df\n",
        "df = pd.concat([df,pd.get_dummies(df.origin)],axis=1)\n",
        "df.head()"
      ],
      "execution_count": 13,
      "outputs": [
        {
          "output_type": "execute_result",
          "data": {
            "text/html": [
              "<div>\n",
              "<style scoped>\n",
              "    .dataframe tbody tr th:only-of-type {\n",
              "        vertical-align: middle;\n",
              "    }\n",
              "\n",
              "    .dataframe tbody tr th {\n",
              "        vertical-align: top;\n",
              "    }\n",
              "\n",
              "    .dataframe thead th {\n",
              "        text-align: right;\n",
              "    }\n",
              "</style>\n",
              "<table border=\"1\" class=\"dataframe\">\n",
              "  <thead>\n",
              "    <tr style=\"text-align: right;\">\n",
              "      <th></th>\n",
              "      <th>mpg</th>\n",
              "      <th>cylinders</th>\n",
              "      <th>displacement</th>\n",
              "      <th>horsepower</th>\n",
              "      <th>weight</th>\n",
              "      <th>acceleration</th>\n",
              "      <th>model year</th>\n",
              "      <th>origin</th>\n",
              "      <th>car name</th>\n",
              "      <th>1</th>\n",
              "      <th>2</th>\n",
              "      <th>3</th>\n",
              "    </tr>\n",
              "  </thead>\n",
              "  <tbody>\n",
              "    <tr>\n",
              "      <th>0</th>\n",
              "      <td>18.0</td>\n",
              "      <td>8</td>\n",
              "      <td>307.0</td>\n",
              "      <td>130.0</td>\n",
              "      <td>3504</td>\n",
              "      <td>12.0</td>\n",
              "      <td>70</td>\n",
              "      <td>1</td>\n",
              "      <td>chevrolet chevelle malibu</td>\n",
              "      <td>1</td>\n",
              "      <td>0</td>\n",
              "      <td>0</td>\n",
              "    </tr>\n",
              "    <tr>\n",
              "      <th>1</th>\n",
              "      <td>15.0</td>\n",
              "      <td>8</td>\n",
              "      <td>350.0</td>\n",
              "      <td>165.0</td>\n",
              "      <td>3693</td>\n",
              "      <td>11.5</td>\n",
              "      <td>70</td>\n",
              "      <td>1</td>\n",
              "      <td>buick skylark 320</td>\n",
              "      <td>1</td>\n",
              "      <td>0</td>\n",
              "      <td>0</td>\n",
              "    </tr>\n",
              "    <tr>\n",
              "      <th>2</th>\n",
              "      <td>18.0</td>\n",
              "      <td>8</td>\n",
              "      <td>318.0</td>\n",
              "      <td>150.0</td>\n",
              "      <td>3436</td>\n",
              "      <td>11.0</td>\n",
              "      <td>70</td>\n",
              "      <td>1</td>\n",
              "      <td>plymouth satellite</td>\n",
              "      <td>1</td>\n",
              "      <td>0</td>\n",
              "      <td>0</td>\n",
              "    </tr>\n",
              "    <tr>\n",
              "      <th>3</th>\n",
              "      <td>16.0</td>\n",
              "      <td>8</td>\n",
              "      <td>304.0</td>\n",
              "      <td>150.0</td>\n",
              "      <td>3433</td>\n",
              "      <td>12.0</td>\n",
              "      <td>70</td>\n",
              "      <td>1</td>\n",
              "      <td>amc rebel sst</td>\n",
              "      <td>1</td>\n",
              "      <td>0</td>\n",
              "      <td>0</td>\n",
              "    </tr>\n",
              "    <tr>\n",
              "      <th>4</th>\n",
              "      <td>17.0</td>\n",
              "      <td>8</td>\n",
              "      <td>302.0</td>\n",
              "      <td>140.0</td>\n",
              "      <td>3449</td>\n",
              "      <td>10.5</td>\n",
              "      <td>70</td>\n",
              "      <td>1</td>\n",
              "      <td>ford torino</td>\n",
              "      <td>1</td>\n",
              "      <td>0</td>\n",
              "      <td>0</td>\n",
              "    </tr>\n",
              "  </tbody>\n",
              "</table>\n",
              "</div>"
            ],
            "text/plain": [
              "    mpg  cylinders  displacement  ...  1  2  3\n",
              "0  18.0          8         307.0  ...  1  0  0\n",
              "1  15.0          8         350.0  ...  1  0  0\n",
              "2  18.0          8         318.0  ...  1  0  0\n",
              "3  16.0          8         304.0  ...  1  0  0\n",
              "4  17.0          8         302.0  ...  1  0  0\n",
              "\n",
              "[5 rows x 12 columns]"
            ]
          },
          "metadata": {
            "tags": []
          },
          "execution_count": 13
        }
      ]
    },
    {
      "cell_type": "code",
      "metadata": {
        "id": "j5IU77si995Y",
        "colab": {
          "base_uri": "https://localhost:8080/",
          "height": 204
        },
        "outputId": "026b7591-e32d-4ff7-9b79-eb60fdab4d5b"
      },
      "source": [
        "df = df.rename(columns={1: \"origin_1\",2: \"origin_2\",3: \"origin_3\"})\n",
        "df.head()"
      ],
      "execution_count": 14,
      "outputs": [
        {
          "output_type": "execute_result",
          "data": {
            "text/html": [
              "<div>\n",
              "<style scoped>\n",
              "    .dataframe tbody tr th:only-of-type {\n",
              "        vertical-align: middle;\n",
              "    }\n",
              "\n",
              "    .dataframe tbody tr th {\n",
              "        vertical-align: top;\n",
              "    }\n",
              "\n",
              "    .dataframe thead th {\n",
              "        text-align: right;\n",
              "    }\n",
              "</style>\n",
              "<table border=\"1\" class=\"dataframe\">\n",
              "  <thead>\n",
              "    <tr style=\"text-align: right;\">\n",
              "      <th></th>\n",
              "      <th>mpg</th>\n",
              "      <th>cylinders</th>\n",
              "      <th>displacement</th>\n",
              "      <th>horsepower</th>\n",
              "      <th>weight</th>\n",
              "      <th>acceleration</th>\n",
              "      <th>model year</th>\n",
              "      <th>origin</th>\n",
              "      <th>car name</th>\n",
              "      <th>origin_1</th>\n",
              "      <th>origin_2</th>\n",
              "      <th>origin_3</th>\n",
              "    </tr>\n",
              "  </thead>\n",
              "  <tbody>\n",
              "    <tr>\n",
              "      <th>0</th>\n",
              "      <td>18.0</td>\n",
              "      <td>8</td>\n",
              "      <td>307.0</td>\n",
              "      <td>130.0</td>\n",
              "      <td>3504</td>\n",
              "      <td>12.0</td>\n",
              "      <td>70</td>\n",
              "      <td>1</td>\n",
              "      <td>chevrolet chevelle malibu</td>\n",
              "      <td>1</td>\n",
              "      <td>0</td>\n",
              "      <td>0</td>\n",
              "    </tr>\n",
              "    <tr>\n",
              "      <th>1</th>\n",
              "      <td>15.0</td>\n",
              "      <td>8</td>\n",
              "      <td>350.0</td>\n",
              "      <td>165.0</td>\n",
              "      <td>3693</td>\n",
              "      <td>11.5</td>\n",
              "      <td>70</td>\n",
              "      <td>1</td>\n",
              "      <td>buick skylark 320</td>\n",
              "      <td>1</td>\n",
              "      <td>0</td>\n",
              "      <td>0</td>\n",
              "    </tr>\n",
              "    <tr>\n",
              "      <th>2</th>\n",
              "      <td>18.0</td>\n",
              "      <td>8</td>\n",
              "      <td>318.0</td>\n",
              "      <td>150.0</td>\n",
              "      <td>3436</td>\n",
              "      <td>11.0</td>\n",
              "      <td>70</td>\n",
              "      <td>1</td>\n",
              "      <td>plymouth satellite</td>\n",
              "      <td>1</td>\n",
              "      <td>0</td>\n",
              "      <td>0</td>\n",
              "    </tr>\n",
              "    <tr>\n",
              "      <th>3</th>\n",
              "      <td>16.0</td>\n",
              "      <td>8</td>\n",
              "      <td>304.0</td>\n",
              "      <td>150.0</td>\n",
              "      <td>3433</td>\n",
              "      <td>12.0</td>\n",
              "      <td>70</td>\n",
              "      <td>1</td>\n",
              "      <td>amc rebel sst</td>\n",
              "      <td>1</td>\n",
              "      <td>0</td>\n",
              "      <td>0</td>\n",
              "    </tr>\n",
              "    <tr>\n",
              "      <th>4</th>\n",
              "      <td>17.0</td>\n",
              "      <td>8</td>\n",
              "      <td>302.0</td>\n",
              "      <td>140.0</td>\n",
              "      <td>3449</td>\n",
              "      <td>10.5</td>\n",
              "      <td>70</td>\n",
              "      <td>1</td>\n",
              "      <td>ford torino</td>\n",
              "      <td>1</td>\n",
              "      <td>0</td>\n",
              "      <td>0</td>\n",
              "    </tr>\n",
              "  </tbody>\n",
              "</table>\n",
              "</div>"
            ],
            "text/plain": [
              "    mpg  cylinders  displacement  ...  origin_1  origin_2  origin_3\n",
              "0  18.0          8         307.0  ...         1         0         0\n",
              "1  15.0          8         350.0  ...         1         0         0\n",
              "2  18.0          8         318.0  ...         1         0         0\n",
              "3  16.0          8         304.0  ...         1         0         0\n",
              "4  17.0          8         302.0  ...         1         0         0\n",
              "\n",
              "[5 rows x 12 columns]"
            ]
          },
          "metadata": {
            "tags": []
          },
          "execution_count": 14
        }
      ]
    },
    {
      "cell_type": "code",
      "metadata": {
        "id": "Fs9wD8g0U-3B",
        "colab": {
          "base_uri": "https://localhost:8080/"
        },
        "outputId": "02cccbe2-341f-4268-cefc-f06fbf371154"
      },
      "source": [
        "# Não será considerada a variável nome dos modelos dos carros\n",
        "# Modelo 1 (Volume, Potência, Peso, Aceleração, Cilindros, Ano do modelo, Origem)\n",
        "X1 = df[['displacement','horsepower','weight','acceleration','cylinders','model year','origin_2','origin_3']]\n",
        "print(f'Dimensões de X1: {X1.shape}')\n",
        "\n",
        "# Modelo 2 (Volume, Potência, Peso, Ano do modelo, Origem)\n",
        "X2 = df[['displacement','horsepower','weight','model year','origin_2','origin_3']]\n",
        "print(f'Dimensões de X2: {X2.shape}')\n",
        "\n",
        "print(f'Dimensões de y: {y.shape}')"
      ],
      "execution_count": 15,
      "outputs": [
        {
          "output_type": "stream",
          "text": [
            "Dimensões de X1: (392, 8)\n",
            "Dimensões de X2: (392, 6)\n",
            "Dimensões de y: (392,)\n"
          ],
          "name": "stdout"
        }
      ]
    },
    {
      "cell_type": "code",
      "metadata": {
        "id": "2Gtoy6X8WQ12",
        "colab": {
          "base_uri": "https://localhost:8080/"
        },
        "outputId": "91296ac4-1c6c-4b93-967f-da56b589fc9d"
      },
      "source": [
        "# Treinamento do Modelo 1 e Coeficiente de determinação do modelo 1\n",
        "modelo1 = LinearRegression()\n",
        "modelo1.fit(X1,y)\n",
        "R21 = modelo1.score(X1,y)\n",
        "\n",
        "# Exibição dos parâmetros do modelo 1\n",
        "print(f'Coeficiente linear do modelo 1 = {modelo1.intercept_}')\n",
        "print(f'Coeficientes angulares do modelo 1 = {modelo1.coef_}')\n",
        "print(f'R1² = {R21}')\n",
        "\n",
        "# Treinamento do Modelo 2 e Coeficiente de determinação do modelo 2\n",
        "modelo2 = LinearRegression()\n",
        "modelo2.fit(X2,y)\n",
        "R22 = modelo2.score(X2,y)\n",
        "\n",
        "# Exibição dos parâmetros do modelo 2\n",
        "print(f'\\nCoeficiente linear do modelo 2 = {modelo2.intercept_}')\n",
        "print(f'Coeficientes angulares do modelo 2 = {modelo2.coef_}')\n",
        "print(f'R2² = {R22}')"
      ],
      "execution_count": 16,
      "outputs": [
        {
          "output_type": "stream",
          "text": [
            "Coeficiente linear do modelo 1 = -17.95460206729025\n",
            "Coeficientes angulares do modelo 1 = [ 0.02397864 -0.01818346 -0.00671038  0.07910304 -0.48970942  0.77702694\n",
            "  2.63000236  2.85322823]\n",
            "R1² = 0.8241994699119173\n",
            "\n",
            "Coeficiente linear do modelo 2 = -17.503569715388263\n",
            "Coeficientes angulares do modelo 2 = [ 0.01554866 -0.02304441 -0.00656529  0.77486346  2.59582082  2.77220941]\n",
            "R2² = 0.8227744703573572\n"
          ],
          "name": "stdout"
        }
      ]
    },
    {
      "cell_type": "code",
      "metadata": {
        "id": "hL8m_nLCX7z_",
        "colab": {
          "base_uri": "https://localhost:8080/"
        },
        "outputId": "fb833fd9-4208-410a-e0e5-57ef333180eb"
      },
      "source": [
        "# Coeficiente de determinação ajustado\n",
        "n = len(y)      # Quantidade de dados de treino\n",
        "k1 = X1.shape[1]  # Quantidade de variáveis independentes do modelo 1 (=8)\n",
        "k2 = X2.shape[1]  # Quantidade de variáveis independentes do modelo 2 (=6)\n",
        "\n",
        "R21ajust = 1-((n-1)/(n-k1-1))*(1-R21)  # R1^2 ajustado\n",
        "print(f'Coeficiente de determinação ajustado do modelo 1: {R21ajust:.4f}')\n",
        "\n",
        "R22ajust = 1-((n-1)/(n-k2-1))*(1-R22)  # R2^2 ajustado\n",
        "print(f'Coeficiente de determinação ajustado do modelo 2: {R22ajust:.4f}')"
      ],
      "execution_count": 17,
      "outputs": [
        {
          "output_type": "stream",
          "text": [
            "Coeficiente de determinação ajustado do modelo 1: 0.8205\n",
            "Coeficiente de determinação ajustado do modelo 2: 0.8200\n"
          ],
          "name": "stdout"
        }
      ]
    },
    {
      "cell_type": "markdown",
      "metadata": {
        "id": "5xMJSoURcblw"
      },
      "source": [
        "Percebe-se um desempenho bem similar dos dois modelos, com o modelo 1 (aquele que considera o número de cilindros e aceleração) sendo ligeiramente superior apresentando R² = 0.8205, assim é o modelo mais bem ajustado aos dados."
      ]
    },
    {
      "cell_type": "code",
      "metadata": {
        "id": "q1LpkHVtYlYH",
        "colab": {
          "base_uri": "https://localhost:8080/"
        },
        "outputId": "6ce09264-54ab-4c43-9ee7-61ff1bb8f2dd"
      },
      "source": [
        "# Avaliação do RMSE\n",
        "y1_prev = modelo1.predict(X1)\n",
        "print(f'RMSE modelo 1: {mean_squared_error(y,y1_prev, squared = False)}')\n",
        "\n",
        "y2_prev = modelo2.predict(X2)\n",
        "print(f'RMSE modelo 2: {mean_squared_error(y,y2_prev, squared = False)}')"
      ],
      "execution_count": 18,
      "outputs": [
        {
          "output_type": "stream",
          "text": [
            "RMSE modelo 1: 3.268351515330416\n",
            "RMSE modelo 2: 3.281571041890876\n"
          ],
          "name": "stdout"
        }
      ]
    },
    {
      "cell_type": "markdown",
      "metadata": {
        "id": "UOgBdL60d7l4"
      },
      "source": [
        "Como esperado o RMSE do modelo 1 é ligeiramente menor em relação ao do modelo 2."
      ]
    },
    {
      "cell_type": "code",
      "metadata": {
        "id": "QErae6tZZGHI",
        "colab": {
          "base_uri": "https://localhost:8080/"
        },
        "outputId": "3040b85f-3fb6-4b54-f9bd-aaccfca04756"
      },
      "source": [
        "# Capacidade de generalização do modelo 1, modelo com melhor desempenho entre os dois estudados \n",
        "# Validação cruzada hold-out \n",
        "X1_treino, X1_teste, y_treino, y_teste = train_test_split(X1,y,train_size = 0.8)\n",
        "\n",
        "print(f'Dimensões dos dados de treino: {X1_treino.shape}')\n",
        "print(f'Dimensões dos dados de teste: {X1_teste.shape}')"
      ],
      "execution_count": 19,
      "outputs": [
        {
          "output_type": "stream",
          "text": [
            "Dimensões dos dados de treino: (313, 8)\n",
            "Dimensões dos dados de teste: (79, 8)\n"
          ],
          "name": "stdout"
        }
      ]
    },
    {
      "cell_type": "code",
      "metadata": {
        "id": "fpvs0v9afWxS",
        "colab": {
          "base_uri": "https://localhost:8080/"
        },
        "outputId": "521843c0-32e4-4686-e152-b17ca7a96153"
      },
      "source": [
        "# Treina o modelo 1, apenas com os dados de treino\n",
        "modelo1_ho = LinearRegression()\n",
        "modelo1_ho.fit(X1_treino,y_treino)\n",
        "\n",
        "# Calcula o RMSE do modelo 1 para os dados de teste\n",
        "y_prev_ho = modelo1_ho.predict(X1_teste)\n",
        "RMSE_ho = mean_squared_error(y_teste,y_prev_ho,squared = False)\n",
        "print(f'RMSE do modelo 1 com validação cruzada hold-out: {RMSE_ho}')\n",
        "print(f'Média do consumo em milhas por galão: {df.mpg.mean()}')\n",
        "print(f'RMSE em comparação com a média dos dados: {RMSE_ho/df.mpg.mean()*100:.4f}%')"
      ],
      "execution_count": 20,
      "outputs": [
        {
          "output_type": "stream",
          "text": [
            "RMSE do modelo 1 com validação cruzada hold-out: 3.0904716436600386\n",
            "Média do consumo em milhas por galão: 23.44591836734694\n",
            "RMSE em comparação com a média dos dados: 13.1813%\n"
          ],
          "name": "stdout"
        }
      ]
    },
    {
      "cell_type": "markdown",
      "metadata": {
        "id": "hfazpxH-fyii"
      },
      "source": [
        "Utilizando a validação cruzada hold-out o RMSE deu um valor entre 3 e 4, analisando juntamente com a média de consumo dos dados, pode-se dizer que o modelo tem uma boa generalização para os dados de teste deste modelo."
      ]
    },
    {
      "cell_type": "code",
      "metadata": {
        "id": "I3uB7aPKfr0F",
        "colab": {
          "base_uri": "https://localhost:8080/"
        },
        "outputId": "62438e26-2eaf-47db-99fc-81ac0d346937"
      },
      "source": [
        "# Validação cruzada k-folds no modelo 1\n",
        "aval = cross_val_score(modelo1,X1,y,cv = 10,scoring = 'neg_root_mean_squared_error')\n",
        "M = np.mean(-aval)            # Média das avaliações\n",
        "DP = np.std(-aval,ddof = 1)   # Desvio padrão das avaliações\n",
        "CV_aval = 100*DP/M            # Coeficiente de variação das avaliações\n",
        "\n",
        "#print(f'Valores de RMSE obtidos: {-aval}')\n",
        "print(f'RMSE médio = {M}')\n",
        "print(f'Coeficiente de variação: {CV_aval:.4f}%')"
      ],
      "execution_count": 21,
      "outputs": [
        {
          "output_type": "stream",
          "text": [
            "RMSE médio = 3.4357561127739835\n",
            "Coeficiente de variação: 26.8900%\n"
          ],
          "name": "stdout"
        }
      ]
    },
    {
      "cell_type": "markdown",
      "metadata": {
        "id": "9mVb_k6PhYbZ"
      },
      "source": [
        "Utilizando a validação cruzada k-folds no modelo 1 percebe-se um RMSE médio mais alto em relação a validação cruzada hold-out, podendo ser explicado pelo número baixo de dados de teste. Além disso, obteve-se uma variação moderada no valor do RMSE médio (>20%)."
      ]
    }
  ]
}