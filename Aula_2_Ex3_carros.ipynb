{
  "nbformat": 4,
  "nbformat_minor": 0,
  "metadata": {
    "colab": {
      "name": "Aula 2 - Ex3 carros.ipynb",
      "provenance": [],
      "collapsed_sections": [],
      "mount_file_id": "1F0bH_BIe7hXsBwlCRqFnhLBaVMzghhcG",
      "authorship_tag": "ABX9TyNEBl/2hx1ta+YmEDG3TBrS",
      "include_colab_link": true
    },
    "kernelspec": {
      "name": "python3",
      "display_name": "Python 3"
    }
  },
  "cells": [
    {
      "cell_type": "markdown",
      "metadata": {
        "id": "view-in-github",
        "colab_type": "text"
      },
      "source": [
        "<a href=\"https://colab.research.google.com/github/Lucas-Buk/Machine-Learning-Metodos-Nao-Prob/blob/main/Aula_2_Ex3_carros.ipynb\" target=\"_parent\"><img src=\"https://colab.research.google.com/assets/colab-badge.svg\" alt=\"Open In Colab\"/></a>"
      ]
    },
    {
      "cell_type": "markdown",
      "metadata": {
        "id": "Ug3eHE_Y3ajo"
      },
      "source": [
        "**Ex 3 - Aula 2**"
      ]
    },
    {
      "cell_type": "code",
      "metadata": {
        "id": "0WNas2pK2HLs"
      },
      "source": [
        "import pandas as pd\n",
        "import numpy as np\n",
        "from matplotlib import pyplot as plt\n",
        "from sklearn.linear_model import LinearRegression"
      ],
      "execution_count": 1,
      "outputs": []
    },
    {
      "cell_type": "code",
      "metadata": {
        "id": "TK2FlPpy3CnK",
        "colab": {
          "base_uri": "https://localhost:8080/",
          "height": 204
        },
        "outputId": "ad920497-780c-4aed-f8f5-9c771dddf5b4"
      },
      "source": [
        "df = pd.read_csv('/content/drive/My Drive/Colab Notebooks/Pós/ML MNP/Datasets/A2EX3-carsmall-mod.csv')\n",
        "df.head()"
      ],
      "execution_count": 2,
      "outputs": [
        {
          "output_type": "execute_result",
          "data": {
            "text/html": [
              "<div>\n",
              "<style scoped>\n",
              "    .dataframe tbody tr th:only-of-type {\n",
              "        vertical-align: middle;\n",
              "    }\n",
              "\n",
              "    .dataframe tbody tr th {\n",
              "        vertical-align: top;\n",
              "    }\n",
              "\n",
              "    .dataframe thead th {\n",
              "        text-align: right;\n",
              "    }\n",
              "</style>\n",
              "<table border=\"1\" class=\"dataframe\">\n",
              "  <thead>\n",
              "    <tr style=\"text-align: right;\">\n",
              "      <th></th>\n",
              "      <th>Acceleration</th>\n",
              "      <th>Cylinders</th>\n",
              "      <th>Displacement</th>\n",
              "      <th>Horsepower</th>\n",
              "      <th>Model</th>\n",
              "      <th>Model_Year</th>\n",
              "      <th>MPG</th>\n",
              "      <th>Origin</th>\n",
              "      <th>Weight</th>\n",
              "      <th>Model_Year_70</th>\n",
              "      <th>Model_Year_76</th>\n",
              "      <th>Model_Year_82</th>\n",
              "    </tr>\n",
              "  </thead>\n",
              "  <tbody>\n",
              "    <tr>\n",
              "      <th>0</th>\n",
              "      <td>12.0</td>\n",
              "      <td>8</td>\n",
              "      <td>307</td>\n",
              "      <td>130</td>\n",
              "      <td>chevrolet chevelle malibu</td>\n",
              "      <td>70</td>\n",
              "      <td>18.0</td>\n",
              "      <td>USA</td>\n",
              "      <td>3504</td>\n",
              "      <td>1</td>\n",
              "      <td>0</td>\n",
              "      <td>0</td>\n",
              "    </tr>\n",
              "    <tr>\n",
              "      <th>1</th>\n",
              "      <td>11.5</td>\n",
              "      <td>8</td>\n",
              "      <td>350</td>\n",
              "      <td>165</td>\n",
              "      <td>buick skylark 320</td>\n",
              "      <td>70</td>\n",
              "      <td>15.0</td>\n",
              "      <td>USA</td>\n",
              "      <td>3693</td>\n",
              "      <td>1</td>\n",
              "      <td>0</td>\n",
              "      <td>0</td>\n",
              "    </tr>\n",
              "    <tr>\n",
              "      <th>2</th>\n",
              "      <td>11.0</td>\n",
              "      <td>8</td>\n",
              "      <td>318</td>\n",
              "      <td>150</td>\n",
              "      <td>plymouth satellite</td>\n",
              "      <td>70</td>\n",
              "      <td>18.0</td>\n",
              "      <td>USA</td>\n",
              "      <td>3436</td>\n",
              "      <td>1</td>\n",
              "      <td>0</td>\n",
              "      <td>0</td>\n",
              "    </tr>\n",
              "    <tr>\n",
              "      <th>3</th>\n",
              "      <td>12.0</td>\n",
              "      <td>8</td>\n",
              "      <td>304</td>\n",
              "      <td>150</td>\n",
              "      <td>amc rebel sst</td>\n",
              "      <td>70</td>\n",
              "      <td>16.0</td>\n",
              "      <td>USA</td>\n",
              "      <td>3433</td>\n",
              "      <td>1</td>\n",
              "      <td>0</td>\n",
              "      <td>0</td>\n",
              "    </tr>\n",
              "    <tr>\n",
              "      <th>4</th>\n",
              "      <td>10.5</td>\n",
              "      <td>8</td>\n",
              "      <td>302</td>\n",
              "      <td>140</td>\n",
              "      <td>ford torino</td>\n",
              "      <td>70</td>\n",
              "      <td>17.0</td>\n",
              "      <td>USA</td>\n",
              "      <td>3449</td>\n",
              "      <td>1</td>\n",
              "      <td>0</td>\n",
              "      <td>0</td>\n",
              "    </tr>\n",
              "  </tbody>\n",
              "</table>\n",
              "</div>"
            ],
            "text/plain": [
              "   Acceleration  Cylinders  ...  Model_Year_76  Model_Year_82\n",
              "0          12.0          8  ...              0              0\n",
              "1          11.5          8  ...              0              0\n",
              "2          11.0          8  ...              0              0\n",
              "3          12.0          8  ...              0              0\n",
              "4          10.5          8  ...              0              0\n",
              "\n",
              "[5 rows x 12 columns]"
            ]
          },
          "metadata": {
            "tags": []
          },
          "execution_count": 2
        }
      ]
    },
    {
      "cell_type": "code",
      "metadata": {
        "id": "oCqeko8y3PVJ",
        "colab": {
          "base_uri": "https://localhost:8080/"
        },
        "outputId": "e44e2bf9-a3dc-4d7d-9a64-1decd3941b60"
      },
      "source": [
        "x12 = df[['Weight','Model_Year_76','Model_Year_82']]\n",
        "y = df['MPG']\n",
        "\n",
        "print(f\"Dimensões de x12: {x12.shape}\")\n",
        "print(f\"Dimensões de y: {y.shape}\")"
      ],
      "execution_count": 3,
      "outputs": [
        {
          "output_type": "stream",
          "text": [
            "Dimensões de x12: (93, 3)\n",
            "Dimensões de y: (93,)\n"
          ],
          "name": "stdout"
        }
      ]
    },
    {
      "cell_type": "markdown",
      "metadata": {
        "id": "RDb2i8wl_ZfO"
      },
      "source": [
        "x1 tem uma relação linear mais bem definida com y do que x2"
      ]
    },
    {
      "cell_type": "code",
      "metadata": {
        "id": "7RDn6sM73-hM",
        "colab": {
          "base_uri": "https://localhost:8080/"
        },
        "outputId": "a8afceee-6af4-415a-bc99-427f3f1b468b"
      },
      "source": [
        "mod = LinearRegression()\n",
        "mod.fit(x12,y)\n",
        "\n",
        "print(f'Coeficiente linear: {mod.intercept_}')\n",
        "print(f'Coeficientes angulares: {mod.coef_}')"
      ],
      "execution_count": 4,
      "outputs": [
        {
          "output_type": "stream",
          "text": [
            "Coeficiente linear: 39.89715495081807\n",
            "Coeficientes angulares: [-6.58430538e-03  1.94770782e+00  8.13014173e+00]\n"
          ],
          "name": "stdout"
        }
      ]
    },
    {
      "cell_type": "markdown",
      "metadata": {
        "id": "vnBuQvUqTzZp"
      },
      "source": [
        "Modelo: **mpg = 39,897 - 6,584.Peso + 1,95.Ano_76 + 8,13.Ano_82**"
      ]
    },
    {
      "cell_type": "code",
      "metadata": {
        "id": "Ku-h_Gt-5nYN",
        "colab": {
          "base_uri": "https://localhost:8080/"
        },
        "outputId": "a645aaa7-f7f6-467a-baff-c5766a4b1b2e"
      },
      "source": [
        "#Cálculo do R² do modelo\n",
        "print(f'R² = {mod.score(x12,y)}')"
      ],
      "execution_count": 5,
      "outputs": [
        {
          "output_type": "stream",
          "text": [
            "R² = 0.8766768652170328\n"
          ],
          "name": "stdout"
        }
      ]
    },
    {
      "cell_type": "code",
      "metadata": {
        "id": "kVCexzGhVJED",
        "colab": {
          "base_uri": "https://localhost:8080/",
          "height": 279
        },
        "outputId": "9e99648d-ec04-41d6-e3ec-32362534d394"
      },
      "source": [
        "plt.scatter(df['Weight'],y)\n",
        "plt.xlabel('Peso')\n",
        "plt.ylabel('Consumo (MPG)')\n",
        "plt.show()"
      ],
      "execution_count": 6,
      "outputs": [
        {
          "output_type": "display_data",
          "data": {
            "image/png": "[encoded data removed]",
            "text/plain": [
              "<Figure size 432x288 with 1 Axes>"
            ]
          },
          "metadata": {
            "tags": [],
            "needs_background": "light"
          }
        }
      ]
    },
    {
      "cell_type": "code",
      "metadata": {
        "id": "UKbKFjljX0o0",
        "colab": {
          "base_uri": "https://localhost:8080/",
          "height": 295
        },
        "outputId": "d6706537-9669-48b2-f0b3-7ca7f72f2d6b"
      },
      "source": [
        "X_70 = df[df['Model_Year_70'] == 1]\n",
        "X_76 = df[df['Model_Year_76'] == 1]\n",
        "X_82 = df[df['Model_Year_82'] == 1]\n",
        " \n",
        "plt.scatter(X_70['Weight'],X_70['MPG'], color='red')\n",
        "plt.scatter(X_76['Weight'],X_76['MPG'], color='blue')\n",
        "plt.scatter(X_82['Weight'],X_82['MPG'], color='green')\n",
        "plt.title(\"Diagrama de dispersão: y = f(x)\")\n",
        "plt.xlabel(\"Peso\")\n",
        "plt.ylabel(\"Consumo\")\n",
        "plt.show()"
      ],
      "execution_count": 7,
      "outputs": [
        {
          "output_type": "display_data",
          "data": {
            "image/png": "[encoded data removed]",
            "text/plain": [
              "<Figure size 432x288 with 1 Axes>"
            ]
          },
          "metadata": {
            "tags": [],
            "needs_background": "light"
          }
        }
      ]
    }
  ]
}