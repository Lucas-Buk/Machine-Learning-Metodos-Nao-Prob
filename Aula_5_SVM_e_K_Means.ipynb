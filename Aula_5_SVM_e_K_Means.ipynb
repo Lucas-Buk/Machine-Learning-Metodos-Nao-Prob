{
  "nbformat": 4,
  "nbformat_minor": 0,
  "metadata": {
    "colab": {
      "name": "Aula 5 - SVM e K-Means.ipynb",
      "provenance": [],
      "collapsed_sections": [],
      "mount_file_id": "1rK43t5rKNPzhM0EIJhMs2PClJcbosLDR",
      "authorship_tag": "ABX9TyMcNN3/UjbSojBgIxioo27q",
      "include_colab_link": true
    },
    "kernelspec": {
      "name": "python3",
      "display_name": "Python 3"
    }
  },
  "cells": [
    {
      "cell_type": "markdown",
      "metadata": {
        "id": "view-in-github",
        "colab_type": "text"
      },
      "source": [
        "<a href=\"https://colab.research.google.com/github/Lucas-Buk/Machine-Learning-Metodos-Nao-Prob/blob/main/Aula_5_SVM_e_K_Means.ipynb\" target=\"_parent\"><img src=\"https://colab.research.google.com/assets/colab-badge.svg\" alt=\"Open In Colab\"/></a>"
      ]
    },
    {
      "cell_type": "code",
      "metadata": {
        "id": "HpSfvUpL4SJF"
      },
      "source": [
        "# Importação das bibliotecas e métodos necessários\n",
        "import pandas as pd\n",
        "import numpy as np\n",
        "from matplotlib import pyplot as plt\n",
        "\n",
        "# Bibliotecas específicas de Machine Learning\n",
        "from sklearn.svm import SVC\n",
        "from sklearn.preprocessing import StandardScaler\n",
        "from sklearn.metrics import confusion_matrix, classification_report\n",
        "from sklearn.model_selection import train_test_split\n",
        "from sklearn.model_selection import cross_val_score\n",
        "from sklearn.model_selection import GridSearchCV"
      ],
      "execution_count": 3,
      "outputs": []
    },
    {
      "cell_type": "code",
      "metadata": {
        "id": "7fzQ0B3YJ3Ix",
        "colab": {
          "base_uri": "https://localhost:8080/",
          "height": 204
        },
        "outputId": "28e073c5-aa3c-4674-b57c-73b4e955a8e0"
      },
      "source": [
        "# Leitura dos dados externos\n",
        "DF = pd.read_csv(\"/content/drive/My Drive/Colab Notebooks/Pós/ML MNP/Datasets/myiris.csv\")\n",
        "DF.head()   # Exibe as 5 primeiras linhas do DataFrame"
      ],
      "execution_count": 4,
      "outputs": [
        {
          "output_type": "execute_result",
          "data": {
            "text/html": [
              "<div>\n",
              "<style scoped>\n",
              "    .dataframe tbody tr th:only-of-type {\n",
              "        vertical-align: middle;\n",
              "    }\n",
              "\n",
              "    .dataframe tbody tr th {\n",
              "        vertical-align: top;\n",
              "    }\n",
              "\n",
              "    .dataframe thead th {\n",
              "        text-align: right;\n",
              "    }\n",
              "</style>\n",
              "<table border=\"1\" class=\"dataframe\">\n",
              "  <thead>\n",
              "    <tr style=\"text-align: right;\">\n",
              "      <th></th>\n",
              "      <th>Sepal.Length</th>\n",
              "      <th>Sepal.Width</th>\n",
              "      <th>Petal.Length</th>\n",
              "      <th>Petal.Width</th>\n",
              "      <th>Species</th>\n",
              "    </tr>\n",
              "  </thead>\n",
              "  <tbody>\n",
              "    <tr>\n",
              "      <th>0</th>\n",
              "      <td>5.1</td>\n",
              "      <td>3.5</td>\n",
              "      <td>1.4</td>\n",
              "      <td>0.2</td>\n",
              "      <td>setosa</td>\n",
              "    </tr>\n",
              "    <tr>\n",
              "      <th>1</th>\n",
              "      <td>4.9</td>\n",
              "      <td>3.0</td>\n",
              "      <td>1.4</td>\n",
              "      <td>0.2</td>\n",
              "      <td>setosa</td>\n",
              "    </tr>\n",
              "    <tr>\n",
              "      <th>2</th>\n",
              "      <td>4.7</td>\n",
              "      <td>3.2</td>\n",
              "      <td>1.3</td>\n",
              "      <td>0.2</td>\n",
              "      <td>setosa</td>\n",
              "    </tr>\n",
              "    <tr>\n",
              "      <th>3</th>\n",
              "      <td>4.6</td>\n",
              "      <td>3.1</td>\n",
              "      <td>1.5</td>\n",
              "      <td>0.2</td>\n",
              "      <td>setosa</td>\n",
              "    </tr>\n",
              "    <tr>\n",
              "      <th>4</th>\n",
              "      <td>5.0</td>\n",
              "      <td>3.6</td>\n",
              "      <td>1.4</td>\n",
              "      <td>0.2</td>\n",
              "      <td>setosa</td>\n",
              "    </tr>\n",
              "  </tbody>\n",
              "</table>\n",
              "</div>"
            ],
            "text/plain": [
              "   Sepal.Length  Sepal.Width  Petal.Length  Petal.Width Species\n",
              "0           5.1          3.5           1.4          0.2  setosa\n",
              "1           4.9          3.0           1.4          0.2  setosa\n",
              "2           4.7          3.2           1.3          0.2  setosa\n",
              "3           4.6          3.1           1.5          0.2  setosa\n",
              "4           5.0          3.6           1.4          0.2  setosa"
            ]
          },
          "metadata": {
            "tags": []
          },
          "execution_count": 4
        }
      ]
    },
    {
      "cell_type": "code",
      "metadata": {
        "id": "VFI8wNnwK5AN",
        "colab": {
          "base_uri": "https://localhost:8080/"
        },
        "outputId": "e3408139-27aa-43dc-d4b1-e2e0084163c3"
      },
      "source": [
        "# Análise descritiva\n",
        "print('Nomes das espécies =', DF.Species.unique())\n",
        "print('Contagem:\\n', DF.Species.value_counts())"
      ],
      "execution_count": 5,
      "outputs": [
        {
          "output_type": "stream",
          "text": [
            "Nomes das espécies = ['setosa' 'versicolor' 'virginica']\n",
            "Contagem:\n",
            " setosa        50\n",
            "versicolor    50\n",
            "virginica     50\n",
            "Name: Species, dtype: int64\n"
          ],
          "name": "stdout"
        }
      ]
    },
    {
      "cell_type": "code",
      "metadata": {
        "id": "QI1YkidvNQTg",
        "colab": {
          "base_uri": "https://localhost:8080/"
        },
        "outputId": "cf49f9c1-01d7-48c4-c0c8-77cfe7eb7724"
      },
      "source": [
        "# Adição de informação de cor ao DataFrame\n",
        "DF['Cor'] = 'red'                                       # Para espécie 'setosa': cor (padrão) = vermelho\n",
        "DF.loc[DF['Species'] == 'versicolor','Cor'] = 'green'   # Espécie 'versicolor': cor = verde\n",
        "DF.loc[DF['Species'] == 'virginica','Cor'] = 'blue'     # Espécie 'virginica': cor = azul\n",
        " \n",
        "# Exibe as novas informações\n",
        "print(\"Novo DataFrame:\")\n",
        "print(DF.head())"
      ],
      "execution_count": 6,
      "outputs": [
        {
          "output_type": "stream",
          "text": [
            "Novo DataFrame:\n",
            "   Sepal.Length  Sepal.Width  Petal.Length  Petal.Width Species  Cor\n",
            "0           5.1          3.5           1.4          0.2  setosa  red\n",
            "1           4.9          3.0           1.4          0.2  setosa  red\n",
            "2           4.7          3.2           1.3          0.2  setosa  red\n",
            "3           4.6          3.1           1.5          0.2  setosa  red\n",
            "4           5.0          3.6           1.4          0.2  setosa  red\n"
          ],
          "name": "stdout"
        }
      ]
    },
    {
      "cell_type": "code",
      "metadata": {
        "id": "rApAbNPpO4WF",
        "colab": {
          "base_uri": "https://localhost:8080/",
          "height": 607
        },
        "outputId": "f188529d-66bf-4dec-ba29-d36639c4f398"
      },
      "source": [
        "# Representação gráfica\n",
        "# Diagrama de dispersão entre comprimento e largura da sépala\n",
        "plt.scatter(DF['Sepal.Length'],DF['Sepal.Width'],color = DF['Cor'])\n",
        "plt.title(\"Dimensões da sépala\")\n",
        "plt.xlabel(\"Comprimento (cm)\")\n",
        "plt.ylabel(\"Largura (cm)\")\n",
        "plt.show()    # \"Consolida\" a exibição do gráfico\n",
        " \n",
        "# Diagrama de dispersão entre comprimento e largura da pétala\n",
        "print(\"\\n\")   # Pula uma linha\n",
        "plt.scatter(DF['Petal.Length'],DF['Petal.Width'],color = DF['Cor'])\n",
        "plt.title(\"Dimensões da pétala\")\n",
        "plt.xlabel(\"Comprimento (cm)\")\n",
        "plt.ylabel(\"Largura (cm)\")\n",
        "plt.show()    # \"Consolida\" a exibição do gráfico"
      ],
      "execution_count": 7,
      "outputs": [
        {
          "output_type": "display_data",
          "data": {
            "image/png": "[encoded data removed]",
            "text/plain": [
              "<Figure size 432x288 with 1 Axes>"
            ]
          },
          "metadata": {
            "tags": [],
            "needs_background": "light"
          }
        },
        {
          "output_type": "stream",
          "text": [
            "\n",
            "\n"
          ],
          "name": "stdout"
        },
        {
          "output_type": "display_data",
          "data": {
            "image/png": "[encoded data removed]",
            "text/plain": [
              "<Figure size 432x288 with 1 Axes>"
            ]
          },
          "metadata": {
            "tags": [],
            "needs_background": "light"
          }
        }
      ]
    },
    {
      "cell_type": "code",
      "metadata": {
        "id": "eFnK7CuKKTvH",
        "colab": {
          "base_uri": "https://localhost:8080/"
        },
        "outputId": "5cfc583d-062a-4a19-8780-081231cb686c"
      },
      "source": [
        "# Seleção de dados dos atributos (var independentes) e do rótulo (var dependente)\n",
        "X = DF[['Sepal.Length', 'Sepal.Width', 'Petal.Length', 'Petal.Width']]   # Valores de temperatura (\"x\")\n",
        "\n",
        "y = DF['Species']   # Variável dependente (y)\n",
        "\n",
        "# Checagem das variáveis criadas\n",
        "print(\"Dimensões do dataframe:\",DF.shape)\n",
        "\n",
        "print(\"\\n\")   # Pula uma linha\n",
        "print(\"Dimensões:\",X.shape)\n",
        "\n",
        "print(\"\\n\")   # Pula uma linha\n",
        "print(\"Dimensões:\",y.shape)"
      ],
      "execution_count": 8,
      "outputs": [
        {
          "output_type": "stream",
          "text": [
            "Dimensões do dataframe: (150, 6)\n",
            "\n",
            "\n",
            "Dimensões: (150, 4)\n",
            "\n",
            "\n",
            "Dimensões: (150,)\n"
          ],
          "name": "stdout"
        }
      ]
    },
    {
      "cell_type": "code",
      "metadata": {
        "id": "ngZUQC0WO0zS"
      },
      "source": [
        "# Pré-processamento: padronização dos atributos\n",
        "escalonador = StandardScaler()      # Cria instância de objeto \"escalonador\"\n",
        "escalonador.fit(X)                  # Armazena os dados; calcula média e variância\n",
        "X_Norm = escalonador.transform(X)   # Padroniza os dados"
      ],
      "execution_count": 9,
      "outputs": []
    },
    {
      "cell_type": "code",
      "metadata": {
        "id": "GZHRSR-zQgG0",
        "colab": {
          "base_uri": "https://localhost:8080/"
        },
        "outputId": "0343aa66-a840-49d8-824f-6e08a76d7c3e"
      },
      "source": [
        "# Classificador por SVM\n",
        "modeloSVM = SVC()\n",
        "modeloSVM.fit(X_Norm,y)"
      ],
      "execution_count": 10,
      "outputs": [
        {
          "output_type": "execute_result",
          "data": {
            "text/plain": [
              "SVC(C=1.0, break_ties=False, cache_size=200, class_weight=None, coef0=0.0,\n",
              "    decision_function_shape='ovr', degree=3, gamma='scale', kernel='rbf',\n",
              "    max_iter=-1, probability=False, random_state=None, shrinking=True,\n",
              "    tol=0.001, verbose=False)"
            ]
          },
          "metadata": {
            "tags": []
          },
          "execution_count": 10
        }
      ]
    },
    {
      "cell_type": "code",
      "metadata": {
        "id": "SU--7bw5REvQ",
        "colab": {
          "base_uri": "https://localhost:8080/"
        },
        "outputId": "78865cfe-36cd-4271-92e6-3c0180d83597"
      },
      "source": [
        "# Avaliação geral da qualidade do classificador SVM\n",
        "# Validação cruzada hold-out, com divisão padrão de treino/teste (75%/25%)\n",
        "\n",
        "# Divisão dos dados\n",
        "X_treino, X_teste, y_treino, y_teste = train_test_split(X_Norm,y)\n",
        "\n",
        "# Calcula as previsões usando APENAS os dados de teste\n",
        "y_prevSVM = modeloSVM.predict(X_teste)\n",
        "\n",
        "# Matriz de confusão\n",
        "print(\"Matriz de confusão:\\n\",confusion_matrix(y_true = y_teste,y_pred = y_prevSVM))\n",
        "\n",
        "# Relatório das métricas de qualidade\n",
        "print(classification_report(y_true = y_teste,y_pred = y_prevSVM,digits = 4))"
      ],
      "execution_count": 11,
      "outputs": [
        {
          "output_type": "stream",
          "text": [
            "Matriz de confusão:\n",
            " [[11  0  0]\n",
            " [ 0 13  1]\n",
            " [ 0  1 12]]\n",
            "              precision    recall  f1-score   support\n",
            "\n",
            "      setosa     1.0000    1.0000    1.0000        11\n",
            "  versicolor     0.9286    0.9286    0.9286        14\n",
            "   virginica     0.9231    0.9231    0.9231        13\n",
            "\n",
            "    accuracy                         0.9474        38\n",
            "   macro avg     0.9505    0.9505    0.9505        38\n",
            "weighted avg     0.9474    0.9474    0.9474        38\n",
            "\n"
          ],
          "name": "stdout"
        }
      ]
    },
    {
      "cell_type": "code",
      "metadata": {
        "id": "OEAQ5j3aRzcn",
        "colab": {
          "base_uri": "https://localhost:8080/"
        },
        "outputId": "d5607600-c06b-4c3b-c28d-c3c1d53dadac"
      },
      "source": [
        "# Validação cruzada k-folds, com k = 10\n",
        "Aval = cross_val_score(modeloSVM,X_Norm,y,cv = 10,scoring = 'accuracy')   \n",
        "M = np.mean(Aval)            # Média das avaliações\n",
        "DP = np.std(Aval,ddof = 1)   # Desvio padrão (amostral) das avaliações\n",
        "CV_Aval = 100*DP/M           # Coeficiente de variação (%) das avaliações\n",
        " \n",
        "print(\"Valores de acurácia obtidos:\",Aval)\n",
        "print(\"\\n\")   # Pula uma linha\n",
        "print(\"Média dos valores =\",M)\n",
        "print(\"Coeficiente de variação (%) =\",CV_Aval)"
      ],
      "execution_count": 12,
      "outputs": [
        {
          "output_type": "stream",
          "text": [
            "Valores de acurácia obtidos: [1.         0.93333333 1.         0.93333333 1.         0.93333333\n",
            " 0.86666667 1.         1.         1.        ]\n",
            "\n",
            "\n",
            "Média dos valores = 0.9666666666666666\n",
            "Coeficiente de variação (%) = 4.876598490941707\n"
          ],
          "name": "stdout"
        }
      ]
    },
    {
      "cell_type": "code",
      "metadata": {
        "id": "Sz7TFVqFTBSO",
        "colab": {
          "base_uri": "https://localhost:8080/"
        },
        "outputId": "c46a4ce9-3e93-45b3-d5eb-c4e48124eb42"
      },
      "source": [
        "# Busca em grade (Grid Search) para os hiperparâmetros C e gamma\n",
        "# Grade de valores\n",
        "HiperParam = {'C': [0.01,0.1,1,10,100,1000], 'gamma': [0.01,0.1,1,10,100,1000], 'kernel': ['rbf']}\n",
        "\n",
        "# Instância da grade\n",
        "modelosGrade = GridSearchCV(modeloSVM,HiperParam,scoring = 'accuracy')\n",
        "modelosGrade.fit(X_Norm,y)   # Treinamentos"
      ],
      "execution_count": 13,
      "outputs": [
        {
          "output_type": "execute_result",
          "data": {
            "text/plain": [
              "GridSearchCV(cv=None, error_score=nan,\n",
              "             estimator=SVC(C=1.0, break_ties=False, cache_size=200,\n",
              "                           class_weight=None, coef0=0.0,\n",
              "                           decision_function_shape='ovr', degree=3,\n",
              "                           gamma='scale', kernel='rbf', max_iter=-1,\n",
              "                           probability=False, random_state=None, shrinking=True,\n",
              "                           tol=0.001, verbose=False),\n",
              "             iid='deprecated', n_jobs=None,\n",
              "             param_grid={'C': [0.01, 0.1, 1, 10, 100, 1000],\n",
              "                         'gamma': [0.01, 0.1, 1, 10, 100, 1000],\n",
              "                         'kernel': ['rbf']},\n",
              "             pre_dispatch='2*n_jobs', refit=True, return_train_score=False,\n",
              "             scoring='accuracy', verbose=0)"
            ]
          },
          "metadata": {
            "tags": []
          },
          "execution_count": 13
        }
      ]
    },
    {
      "cell_type": "code",
      "metadata": {
        "id": "-B4Pt_kZUVdr",
        "colab": {
          "base_uri": "https://localhost:8080/"
        },
        "outputId": "0506584d-5cc8-4f9b-a313-c03046fb497d"
      },
      "source": [
        "# Exibir a 'solução ótima' \n",
        "print(f'Melhor solução: {modelosGrade.best_estimator_}')"
      ],
      "execution_count": 14,
      "outputs": [
        {
          "output_type": "stream",
          "text": [
            "Melhor solução: SVC(C=1, break_ties=False, cache_size=200, class_weight=None, coef0=0.0,\n",
            "    decision_function_shape='ovr', degree=3, gamma=0.1, kernel='rbf',\n",
            "    max_iter=-1, probability=False, random_state=None, shrinking=True,\n",
            "    tol=0.001, verbose=False)\n"
          ],
          "name": "stdout"
        }
      ]
    },
    {
      "cell_type": "markdown",
      "metadata": {
        "id": "yEu4DTiyj80X"
      },
      "source": [
        "# Algoritmo K-Means"
      ]
    },
    {
      "cell_type": "code",
      "metadata": {
        "id": "ZB9T_nmFW--q",
        "colab": {
          "base_uri": "https://localhost:8080/"
        },
        "outputId": "de89de8f-8845-4b64-a3d9-1980421660fc"
      },
      "source": [
        "# Importação da biblioteca\n",
        "from sklearn.cluster import KMeans    # Algoritmo de agrupamento (clusterização) K-Means\n",
        " \n",
        "modeloKM = KMeans(n_clusters = 2)   # Cria instância do classificador\n",
        "modeloKM.fit(X_Norm)                # Treina o modelo"
      ],
      "execution_count": 15,
      "outputs": [
        {
          "output_type": "execute_result",
          "data": {
            "text/plain": [
              "KMeans(algorithm='auto', copy_x=True, init='k-means++', max_iter=300,\n",
              "       n_clusters=2, n_init=10, n_jobs=None, precompute_distances='auto',\n",
              "       random_state=None, tol=0.0001, verbose=0)"
            ]
          },
          "metadata": {
            "tags": []
          },
          "execution_count": 15
        }
      ]
    },
    {
      "cell_type": "code",
      "metadata": {
        "id": "u9tOgIx1knMy",
        "colab": {
          "base_uri": "https://localhost:8080/"
        },
        "outputId": "a10cd487-f466-412f-c237-dcc99a2666dd"
      },
      "source": [
        "print(modeloKM.cluster_centers_)    # Atributos dos centroides\n",
        "print(\"\\n\")\n",
        "print(modeloKM.labels_)             # Rótulos dos centroides\n",
        "print(\"\\n\")\n",
        "print(modeloKM.inertia_)            # Inércia dos centroides"
      ],
      "execution_count": 16,
      "outputs": [
        {
          "output_type": "stream",
          "text": [
            "[[-1.01457897  0.85326268 -1.30498732 -1.25489349]\n",
            " [ 0.50728948 -0.42663134  0.65249366  0.62744675]]\n",
            "\n",
            "\n",
            "[0 0 0 0 0 0 0 0 0 0 0 0 0 0 0 0 0 0 0 0 0 0 0 0 0 0 0 0 0 0 0 0 0 0 0 0 0\n",
            " 0 0 0 0 0 0 0 0 0 0 0 0 0 1 1 1 1 1 1 1 1 1 1 1 1 1 1 1 1 1 1 1 1 1 1 1 1\n",
            " 1 1 1 1 1 1 1 1 1 1 1 1 1 1 1 1 1 1 1 1 1 1 1 1 1 1 1 1 1 1 1 1 1 1 1 1 1\n",
            " 1 1 1 1 1 1 1 1 1 1 1 1 1 1 1 1 1 1 1 1 1 1 1 1 1 1 1 1 1 1 1 1 1 1 1 1 1\n",
            " 1 1]\n",
            "\n",
            "\n",
            "222.36170496502297\n"
          ],
          "name": "stdout"
        }
      ]
    },
    {
      "cell_type": "code",
      "metadata": {
        "id": "xbFbzHrOmdFS",
        "colab": {
          "base_uri": "https://localhost:8080/",
          "height": 279
        },
        "outputId": "dd5dd319-c68c-4959-f8df-c7b226df349d"
      },
      "source": [
        "# Gráfico do 'cotovelo'\n",
        "Lista_inercia = []\n",
        "for i in range(1,11):\n",
        "  modeloKM = KMeans(n_clusters = i)\n",
        "  modeloKM.fit(X_Norm)\n",
        "  Lista_inercia.append(modeloKM.inertia_)\n",
        "\n",
        "plt.plot(range(1,11),Lista_inercia,marker = 'o')\n",
        "plt.xlabel(\"K\")\n",
        "plt.ylabel(\"Inércia\")\n",
        "plt.show()"
      ],
      "execution_count": 17,
      "outputs": [
        {
          "output_type": "display_data",
          "data": {
            "image/png": "[encoded data removed]",
            "text/plain": [
              "<Figure size 432x288 with 1 Axes>"
            ]
          },
          "metadata": {
            "tags": [],
            "needs_background": "light"
          }
        }
      ]
    },
    {
      "cell_type": "code",
      "metadata": {
        "id": "somKQEWIq0e0",
        "colab": {
          "base_uri": "https://localhost:8080/",
          "height": 592
        },
        "outputId": "eb6182eb-8c04-4331-be15-8720af80582f"
      },
      "source": [
        "# Gera um conjunto de 200 pontos com coordenadas aleatórias, divididos em 4 grupos (clusters)\n",
        "from sklearn.datasets import make_blobs\n",
        "Atrib, Rot = make_blobs(n_samples = 200,n_features = 2,centers = 4,cluster_std = 1.8,random_state = 42)\n",
        " \n",
        "plt.figure(figsize = (10,10))\n",
        "plt.scatter(Atrib[:,0],Atrib[:,1],c = Rot)\n",
        "plt.show()"
      ],
      "execution_count": 18,
      "outputs": [
        {
          "output_type": "display_data",
          "data": {
            "image/png": "[encoded data removed]",
            "text/plain": [
              "<Figure size 720x720 with 1 Axes>"
            ]
          },
          "metadata": {
            "tags": [],
            "needs_background": "light"
          }
        }
      ]
    }
  ]
}